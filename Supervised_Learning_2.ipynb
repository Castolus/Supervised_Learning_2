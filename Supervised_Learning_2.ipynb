{
  "nbformat": 4,
  "nbformat_minor": 0,
  "metadata": {
    "colab": {
      "name": "Supervised_Learning_2.ipynb",
      "provenance": [],
      "collapsed_sections": []
    },
    "kernelspec": {
      "name": "python3",
      "display_name": "Python 3"
    },
    "language_info": {
      "name": "python"
    }
  },
  "cells": [
    {
      "cell_type": "markdown",
      "source": [
        "# **SUPERVISED LEARNING 2**"
      ],
      "metadata": {
        "id": "9Uj6luMmFpwO"
      }
    },
    {
      "cell_type": "code",
      "source": [
        "from google.colab import drive\n",
        "drive.mount('/content/drive')"
      ],
      "metadata": {
        "id": "YYgoJXGw6qaH",
        "colab": {
          "base_uri": "https://localhost:8080/"
        },
        "outputId": "02b8a766-2b09-4cd7-8938-5a9d855fb137"
      },
      "execution_count": 1,
      "outputs": [
        {
          "output_type": "stream",
          "name": "stdout",
          "text": [
            "Mounted at /content/drive\n"
          ]
        }
      ]
    },
    {
      "cell_type": "code",
      "metadata": {
        "id": "H_O3ZQGpczry",
        "colab": {
          "base_uri": "https://localhost:8080/"
        },
        "outputId": "317c2022-d4f1-4b33-90c5-863fa1a033c8"
      },
      "source": [
        "! pip install kaggle\n",
        "! mkdir ~/.kaggle\n",
        "! cp /content/drive/MyDrive/kaggle.json ~/.kaggle/kaggle.json\n",
        "! chmod 600 ~/.kaggle/kaggle.json\n",
        "\n",
        "! kaggle datasets download parulpandey/palmer-archipelago-antarctica-penguin-data\n",
        "! unzip palmer-archipelago-antarctica-penguin-data.zip"
      ],
      "execution_count": 2,
      "outputs": [
        {
          "output_type": "stream",
          "name": "stdout",
          "text": [
            "Requirement already satisfied: kaggle in /usr/local/lib/python3.7/dist-packages (1.5.12)\n",
            "Requirement already satisfied: certifi in /usr/local/lib/python3.7/dist-packages (from kaggle) (2021.10.8)\n",
            "Requirement already satisfied: python-dateutil in /usr/local/lib/python3.7/dist-packages (from kaggle) (2.8.2)\n",
            "Requirement already satisfied: python-slugify in /usr/local/lib/python3.7/dist-packages (from kaggle) (6.1.1)\n",
            "Requirement already satisfied: tqdm in /usr/local/lib/python3.7/dist-packages (from kaggle) (4.64.0)\n",
            "Requirement already satisfied: urllib3 in /usr/local/lib/python3.7/dist-packages (from kaggle) (1.24.3)\n",
            "Requirement already satisfied: six>=1.10 in /usr/local/lib/python3.7/dist-packages (from kaggle) (1.15.0)\n",
            "Requirement already satisfied: requests in /usr/local/lib/python3.7/dist-packages (from kaggle) (2.23.0)\n",
            "Requirement already satisfied: text-unidecode>=1.3 in /usr/local/lib/python3.7/dist-packages (from python-slugify->kaggle) (1.3)\n",
            "Requirement already satisfied: chardet<4,>=3.0.2 in /usr/local/lib/python3.7/dist-packages (from requests->kaggle) (3.0.4)\n",
            "Requirement already satisfied: idna<3,>=2.5 in /usr/local/lib/python3.7/dist-packages (from requests->kaggle) (2.10)\n",
            "mkdir: cannot create directory ‘/root/.kaggle’: File exists\n",
            "Downloading palmer-archipelago-antarctica-penguin-data.zip to /content\n",
            "  0% 0.00/11.3k [00:00<?, ?B/s]\n",
            "100% 11.3k/11.3k [00:00<00:00, 7.46MB/s]\n",
            "Archive:  palmer-archipelago-antarctica-penguin-data.zip\n",
            "  inflating: penguins_lter.csv       \n",
            "replace penguins_size.csv? [y]es, [n]o, [A]ll, [N]one, [r]ename: a\n",
            "error:  invalid response [a]\n",
            "replace penguins_size.csv? [y]es, [n]o, [A]ll, [N]one, [r]ename: y\n",
            "  inflating: penguins_size.csv       \n"
          ]
        }
      ]
    },
    {
      "cell_type": "code",
      "metadata": {
        "id": "fvXCnK4__hIu"
      },
      "source": [
        "from sklearn.model_selection import train_test_split\n",
        "from sklearn.neighbors import KNeighborsClassifier\n",
        "from sklearn.metrics import accuracy_score\n",
        "# Data processing libraries\n",
        "# ==============================================================================\n",
        "import pandas as pd\n",
        "import numpy as np\n",
        "\n",
        "# Preprocessing, modeling and validation libraries \n",
        "# ==============================================================================\n",
        "from sklearn import svm\n",
        "from sklearn.svm import SVC\n",
        "from sklearn.model_selection import train_test_split\n",
        "from sklearn.metrics import accuracy_score\n",
        "from sklearn.metrics import roc_auc_score\n",
        "from sklearn.metrics import roc_curve, auc\n",
        "from sklearn.metrics import confusion_matrix\n",
        "\n",
        "\n",
        "# Graphics display libraries\n",
        "# ==============================================================================\n",
        "import matplotlib.pyplot as plt\n",
        "import matplotlib.pyplot as plp\n",
        "import seaborn as sns"
      ],
      "execution_count": 3,
      "outputs": []
    },
    {
      "cell_type": "markdown",
      "source": [
        "##1. EXPLORATORY ANALYSIS"
      ],
      "metadata": {
        "id": "s9th4SFMGWst"
      }
    },
    {
      "cell_type": "markdown",
      "metadata": {
        "id": "oconCNKCen0E"
      },
      "source": [
        "Loading of the **penguin species** dataset available in Kaggle."
      ]
    },
    {
      "cell_type": "code",
      "metadata": {
        "id": "tvTC5Ivl_vsG",
        "colab": {
          "base_uri": "https://localhost:8080/",
          "height": 424
        },
        "outputId": "66cda116-7c43-4149-e5c4-cfbe70d6e82e"
      },
      "source": [
        "# Import dataset and remove first nulls\n",
        "import pandas as pd\n",
        "penguins = pd.read_csv('penguins_size.csv')\n",
        "penguins"
      ],
      "execution_count": 4,
      "outputs": [
        {
          "output_type": "execute_result",
          "data": {
            "text/plain": [
              "    species     island  culmen_length_mm  culmen_depth_mm  flipper_length_mm  \\\n",
              "0    Adelie  Torgersen              39.1             18.7              181.0   \n",
              "1    Adelie  Torgersen              39.5             17.4              186.0   \n",
              "2    Adelie  Torgersen              40.3             18.0              195.0   \n",
              "3    Adelie  Torgersen               NaN              NaN                NaN   \n",
              "4    Adelie  Torgersen              36.7             19.3              193.0   \n",
              "..      ...        ...               ...              ...                ...   \n",
              "339  Gentoo     Biscoe               NaN              NaN                NaN   \n",
              "340  Gentoo     Biscoe              46.8             14.3              215.0   \n",
              "341  Gentoo     Biscoe              50.4             15.7              222.0   \n",
              "342  Gentoo     Biscoe              45.2             14.8              212.0   \n",
              "343  Gentoo     Biscoe              49.9             16.1              213.0   \n",
              "\n",
              "     body_mass_g     sex  \n",
              "0         3750.0    MALE  \n",
              "1         3800.0  FEMALE  \n",
              "2         3250.0  FEMALE  \n",
              "3            NaN     NaN  \n",
              "4         3450.0  FEMALE  \n",
              "..           ...     ...  \n",
              "339          NaN     NaN  \n",
              "340       4850.0  FEMALE  \n",
              "341       5750.0    MALE  \n",
              "342       5200.0  FEMALE  \n",
              "343       5400.0    MALE  \n",
              "\n",
              "[344 rows x 7 columns]"
            ],
            "text/html": [
              "\n",
              "  <div id=\"df-28e8f6d7-e8da-46ca-ae0e-57e6399b53b9\">\n",
              "    <div class=\"colab-df-container\">\n",
              "      <div>\n",
              "<style scoped>\n",
              "    .dataframe tbody tr th:only-of-type {\n",
              "        vertical-align: middle;\n",
              "    }\n",
              "\n",
              "    .dataframe tbody tr th {\n",
              "        vertical-align: top;\n",
              "    }\n",
              "\n",
              "    .dataframe thead th {\n",
              "        text-align: right;\n",
              "    }\n",
              "</style>\n",
              "<table border=\"1\" class=\"dataframe\">\n",
              "  <thead>\n",
              "    <tr style=\"text-align: right;\">\n",
              "      <th></th>\n",
              "      <th>species</th>\n",
              "      <th>island</th>\n",
              "      <th>culmen_length_mm</th>\n",
              "      <th>culmen_depth_mm</th>\n",
              "      <th>flipper_length_mm</th>\n",
              "      <th>body_mass_g</th>\n",
              "      <th>sex</th>\n",
              "    </tr>\n",
              "  </thead>\n",
              "  <tbody>\n",
              "    <tr>\n",
              "      <th>0</th>\n",
              "      <td>Adelie</td>\n",
              "      <td>Torgersen</td>\n",
              "      <td>39.1</td>\n",
              "      <td>18.7</td>\n",
              "      <td>181.0</td>\n",
              "      <td>3750.0</td>\n",
              "      <td>MALE</td>\n",
              "    </tr>\n",
              "    <tr>\n",
              "      <th>1</th>\n",
              "      <td>Adelie</td>\n",
              "      <td>Torgersen</td>\n",
              "      <td>39.5</td>\n",
              "      <td>17.4</td>\n",
              "      <td>186.0</td>\n",
              "      <td>3800.0</td>\n",
              "      <td>FEMALE</td>\n",
              "    </tr>\n",
              "    <tr>\n",
              "      <th>2</th>\n",
              "      <td>Adelie</td>\n",
              "      <td>Torgersen</td>\n",
              "      <td>40.3</td>\n",
              "      <td>18.0</td>\n",
              "      <td>195.0</td>\n",
              "      <td>3250.0</td>\n",
              "      <td>FEMALE</td>\n",
              "    </tr>\n",
              "    <tr>\n",
              "      <th>3</th>\n",
              "      <td>Adelie</td>\n",
              "      <td>Torgersen</td>\n",
              "      <td>NaN</td>\n",
              "      <td>NaN</td>\n",
              "      <td>NaN</td>\n",
              "      <td>NaN</td>\n",
              "      <td>NaN</td>\n",
              "    </tr>\n",
              "    <tr>\n",
              "      <th>4</th>\n",
              "      <td>Adelie</td>\n",
              "      <td>Torgersen</td>\n",
              "      <td>36.7</td>\n",
              "      <td>19.3</td>\n",
              "      <td>193.0</td>\n",
              "      <td>3450.0</td>\n",
              "      <td>FEMALE</td>\n",
              "    </tr>\n",
              "    <tr>\n",
              "      <th>...</th>\n",
              "      <td>...</td>\n",
              "      <td>...</td>\n",
              "      <td>...</td>\n",
              "      <td>...</td>\n",
              "      <td>...</td>\n",
              "      <td>...</td>\n",
              "      <td>...</td>\n",
              "    </tr>\n",
              "    <tr>\n",
              "      <th>339</th>\n",
              "      <td>Gentoo</td>\n",
              "      <td>Biscoe</td>\n",
              "      <td>NaN</td>\n",
              "      <td>NaN</td>\n",
              "      <td>NaN</td>\n",
              "      <td>NaN</td>\n",
              "      <td>NaN</td>\n",
              "    </tr>\n",
              "    <tr>\n",
              "      <th>340</th>\n",
              "      <td>Gentoo</td>\n",
              "      <td>Biscoe</td>\n",
              "      <td>46.8</td>\n",
              "      <td>14.3</td>\n",
              "      <td>215.0</td>\n",
              "      <td>4850.0</td>\n",
              "      <td>FEMALE</td>\n",
              "    </tr>\n",
              "    <tr>\n",
              "      <th>341</th>\n",
              "      <td>Gentoo</td>\n",
              "      <td>Biscoe</td>\n",
              "      <td>50.4</td>\n",
              "      <td>15.7</td>\n",
              "      <td>222.0</td>\n",
              "      <td>5750.0</td>\n",
              "      <td>MALE</td>\n",
              "    </tr>\n",
              "    <tr>\n",
              "      <th>342</th>\n",
              "      <td>Gentoo</td>\n",
              "      <td>Biscoe</td>\n",
              "      <td>45.2</td>\n",
              "      <td>14.8</td>\n",
              "      <td>212.0</td>\n",
              "      <td>5200.0</td>\n",
              "      <td>FEMALE</td>\n",
              "    </tr>\n",
              "    <tr>\n",
              "      <th>343</th>\n",
              "      <td>Gentoo</td>\n",
              "      <td>Biscoe</td>\n",
              "      <td>49.9</td>\n",
              "      <td>16.1</td>\n",
              "      <td>213.0</td>\n",
              "      <td>5400.0</td>\n",
              "      <td>MALE</td>\n",
              "    </tr>\n",
              "  </tbody>\n",
              "</table>\n",
              "<p>344 rows × 7 columns</p>\n",
              "</div>\n",
              "      <button class=\"colab-df-convert\" onclick=\"convertToInteractive('df-28e8f6d7-e8da-46ca-ae0e-57e6399b53b9')\"\n",
              "              title=\"Convert this dataframe to an interactive table.\"\n",
              "              style=\"display:none;\">\n",
              "        \n",
              "  <svg xmlns=\"http://www.w3.org/2000/svg\" height=\"24px\"viewBox=\"0 0 24 24\"\n",
              "       width=\"24px\">\n",
              "    <path d=\"M0 0h24v24H0V0z\" fill=\"none\"/>\n",
              "    <path d=\"M18.56 5.44l.94 2.06.94-2.06 2.06-.94-2.06-.94-.94-2.06-.94 2.06-2.06.94zm-11 1L8.5 8.5l.94-2.06 2.06-.94-2.06-.94L8.5 2.5l-.94 2.06-2.06.94zm10 10l.94 2.06.94-2.06 2.06-.94-2.06-.94-.94-2.06-.94 2.06-2.06.94z\"/><path d=\"M17.41 7.96l-1.37-1.37c-.4-.4-.92-.59-1.43-.59-.52 0-1.04.2-1.43.59L10.3 9.45l-7.72 7.72c-.78.78-.78 2.05 0 2.83L4 21.41c.39.39.9.59 1.41.59.51 0 1.02-.2 1.41-.59l7.78-7.78 2.81-2.81c.8-.78.8-2.07 0-2.86zM5.41 20L4 18.59l7.72-7.72 1.47 1.35L5.41 20z\"/>\n",
              "  </svg>\n",
              "      </button>\n",
              "      \n",
              "  <style>\n",
              "    .colab-df-container {\n",
              "      display:flex;\n",
              "      flex-wrap:wrap;\n",
              "      gap: 12px;\n",
              "    }\n",
              "\n",
              "    .colab-df-convert {\n",
              "      background-color: #E8F0FE;\n",
              "      border: none;\n",
              "      border-radius: 50%;\n",
              "      cursor: pointer;\n",
              "      display: none;\n",
              "      fill: #1967D2;\n",
              "      height: 32px;\n",
              "      padding: 0 0 0 0;\n",
              "      width: 32px;\n",
              "    }\n",
              "\n",
              "    .colab-df-convert:hover {\n",
              "      background-color: #E2EBFA;\n",
              "      box-shadow: 0px 1px 2px rgba(60, 64, 67, 0.3), 0px 1px 3px 1px rgba(60, 64, 67, 0.15);\n",
              "      fill: #174EA6;\n",
              "    }\n",
              "\n",
              "    [theme=dark] .colab-df-convert {\n",
              "      background-color: #3B4455;\n",
              "      fill: #D2E3FC;\n",
              "    }\n",
              "\n",
              "    [theme=dark] .colab-df-convert:hover {\n",
              "      background-color: #434B5C;\n",
              "      box-shadow: 0px 1px 3px 1px rgba(0, 0, 0, 0.15);\n",
              "      filter: drop-shadow(0px 1px 2px rgba(0, 0, 0, 0.3));\n",
              "      fill: #FFFFFF;\n",
              "    }\n",
              "  </style>\n",
              "\n",
              "      <script>\n",
              "        const buttonEl =\n",
              "          document.querySelector('#df-28e8f6d7-e8da-46ca-ae0e-57e6399b53b9 button.colab-df-convert');\n",
              "        buttonEl.style.display =\n",
              "          google.colab.kernel.accessAllowed ? 'block' : 'none';\n",
              "\n",
              "        async function convertToInteractive(key) {\n",
              "          const element = document.querySelector('#df-28e8f6d7-e8da-46ca-ae0e-57e6399b53b9');\n",
              "          const dataTable =\n",
              "            await google.colab.kernel.invokeFunction('convertToInteractive',\n",
              "                                                     [key], {});\n",
              "          if (!dataTable) return;\n",
              "\n",
              "          const docLinkHtml = 'Like what you see? Visit the ' +\n",
              "            '<a target=\"_blank\" href=https://colab.research.google.com/notebooks/data_table.ipynb>data table notebook</a>'\n",
              "            + ' to learn more about interactive tables.';\n",
              "          element.innerHTML = '';\n",
              "          dataTable['output_type'] = 'display_data';\n",
              "          await google.colab.output.renderOutput(dataTable, element);\n",
              "          const docLink = document.createElement('div');\n",
              "          docLink.innerHTML = docLinkHtml;\n",
              "          element.appendChild(docLink);\n",
              "        }\n",
              "      </script>\n",
              "    </div>\n",
              "  </div>\n",
              "  "
            ]
          },
          "metadata": {},
          "execution_count": 4
        }
      ]
    },
    {
      "cell_type": "code",
      "source": [
        "# I'm keeping the original dataset just in case.\n",
        "penguins_ori = penguins"
      ],
      "metadata": {
        "id": "Q9C530xaIlki"
      },
      "execution_count": 5,
      "outputs": []
    },
    {
      "cell_type": "markdown",
      "source": [
        "As you can see, there are two complete rows of null values, so we proceed to eliminate them.\n",
        "\n"
      ],
      "metadata": {
        "id": "-10SQUIpQejb"
      }
    },
    {
      "cell_type": "code",
      "source": [
        "penguins = pd.read_csv('penguins_size.csv').dropna()\n",
        "penguins.head()"
      ],
      "metadata": {
        "id": "jmj4dKB9QbCO",
        "colab": {
          "base_uri": "https://localhost:8080/",
          "height": 206
        },
        "outputId": "3d5dcf6c-33b7-4811-edf7-e447846a381a"
      },
      "execution_count": 6,
      "outputs": [
        {
          "output_type": "execute_result",
          "data": {
            "text/plain": [
              "  species     island  culmen_length_mm  culmen_depth_mm  flipper_length_mm  \\\n",
              "0  Adelie  Torgersen              39.1             18.7              181.0   \n",
              "1  Adelie  Torgersen              39.5             17.4              186.0   \n",
              "2  Adelie  Torgersen              40.3             18.0              195.0   \n",
              "4  Adelie  Torgersen              36.7             19.3              193.0   \n",
              "5  Adelie  Torgersen              39.3             20.6              190.0   \n",
              "\n",
              "   body_mass_g     sex  \n",
              "0       3750.0    MALE  \n",
              "1       3800.0  FEMALE  \n",
              "2       3250.0  FEMALE  \n",
              "4       3450.0  FEMALE  \n",
              "5       3650.0    MALE  "
            ],
            "text/html": [
              "\n",
              "  <div id=\"df-ae0d661c-e477-4cdc-a2b2-cda5d818d693\">\n",
              "    <div class=\"colab-df-container\">\n",
              "      <div>\n",
              "<style scoped>\n",
              "    .dataframe tbody tr th:only-of-type {\n",
              "        vertical-align: middle;\n",
              "    }\n",
              "\n",
              "    .dataframe tbody tr th {\n",
              "        vertical-align: top;\n",
              "    }\n",
              "\n",
              "    .dataframe thead th {\n",
              "        text-align: right;\n",
              "    }\n",
              "</style>\n",
              "<table border=\"1\" class=\"dataframe\">\n",
              "  <thead>\n",
              "    <tr style=\"text-align: right;\">\n",
              "      <th></th>\n",
              "      <th>species</th>\n",
              "      <th>island</th>\n",
              "      <th>culmen_length_mm</th>\n",
              "      <th>culmen_depth_mm</th>\n",
              "      <th>flipper_length_mm</th>\n",
              "      <th>body_mass_g</th>\n",
              "      <th>sex</th>\n",
              "    </tr>\n",
              "  </thead>\n",
              "  <tbody>\n",
              "    <tr>\n",
              "      <th>0</th>\n",
              "      <td>Adelie</td>\n",
              "      <td>Torgersen</td>\n",
              "      <td>39.1</td>\n",
              "      <td>18.7</td>\n",
              "      <td>181.0</td>\n",
              "      <td>3750.0</td>\n",
              "      <td>MALE</td>\n",
              "    </tr>\n",
              "    <tr>\n",
              "      <th>1</th>\n",
              "      <td>Adelie</td>\n",
              "      <td>Torgersen</td>\n",
              "      <td>39.5</td>\n",
              "      <td>17.4</td>\n",
              "      <td>186.0</td>\n",
              "      <td>3800.0</td>\n",
              "      <td>FEMALE</td>\n",
              "    </tr>\n",
              "    <tr>\n",
              "      <th>2</th>\n",
              "      <td>Adelie</td>\n",
              "      <td>Torgersen</td>\n",
              "      <td>40.3</td>\n",
              "      <td>18.0</td>\n",
              "      <td>195.0</td>\n",
              "      <td>3250.0</td>\n",
              "      <td>FEMALE</td>\n",
              "    </tr>\n",
              "    <tr>\n",
              "      <th>4</th>\n",
              "      <td>Adelie</td>\n",
              "      <td>Torgersen</td>\n",
              "      <td>36.7</td>\n",
              "      <td>19.3</td>\n",
              "      <td>193.0</td>\n",
              "      <td>3450.0</td>\n",
              "      <td>FEMALE</td>\n",
              "    </tr>\n",
              "    <tr>\n",
              "      <th>5</th>\n",
              "      <td>Adelie</td>\n",
              "      <td>Torgersen</td>\n",
              "      <td>39.3</td>\n",
              "      <td>20.6</td>\n",
              "      <td>190.0</td>\n",
              "      <td>3650.0</td>\n",
              "      <td>MALE</td>\n",
              "    </tr>\n",
              "  </tbody>\n",
              "</table>\n",
              "</div>\n",
              "      <button class=\"colab-df-convert\" onclick=\"convertToInteractive('df-ae0d661c-e477-4cdc-a2b2-cda5d818d693')\"\n",
              "              title=\"Convert this dataframe to an interactive table.\"\n",
              "              style=\"display:none;\">\n",
              "        \n",
              "  <svg xmlns=\"http://www.w3.org/2000/svg\" height=\"24px\"viewBox=\"0 0 24 24\"\n",
              "       width=\"24px\">\n",
              "    <path d=\"M0 0h24v24H0V0z\" fill=\"none\"/>\n",
              "    <path d=\"M18.56 5.44l.94 2.06.94-2.06 2.06-.94-2.06-.94-.94-2.06-.94 2.06-2.06.94zm-11 1L8.5 8.5l.94-2.06 2.06-.94-2.06-.94L8.5 2.5l-.94 2.06-2.06.94zm10 10l.94 2.06.94-2.06 2.06-.94-2.06-.94-.94-2.06-.94 2.06-2.06.94z\"/><path d=\"M17.41 7.96l-1.37-1.37c-.4-.4-.92-.59-1.43-.59-.52 0-1.04.2-1.43.59L10.3 9.45l-7.72 7.72c-.78.78-.78 2.05 0 2.83L4 21.41c.39.39.9.59 1.41.59.51 0 1.02-.2 1.41-.59l7.78-7.78 2.81-2.81c.8-.78.8-2.07 0-2.86zM5.41 20L4 18.59l7.72-7.72 1.47 1.35L5.41 20z\"/>\n",
              "  </svg>\n",
              "      </button>\n",
              "      \n",
              "  <style>\n",
              "    .colab-df-container {\n",
              "      display:flex;\n",
              "      flex-wrap:wrap;\n",
              "      gap: 12px;\n",
              "    }\n",
              "\n",
              "    .colab-df-convert {\n",
              "      background-color: #E8F0FE;\n",
              "      border: none;\n",
              "      border-radius: 50%;\n",
              "      cursor: pointer;\n",
              "      display: none;\n",
              "      fill: #1967D2;\n",
              "      height: 32px;\n",
              "      padding: 0 0 0 0;\n",
              "      width: 32px;\n",
              "    }\n",
              "\n",
              "    .colab-df-convert:hover {\n",
              "      background-color: #E2EBFA;\n",
              "      box-shadow: 0px 1px 2px rgba(60, 64, 67, 0.3), 0px 1px 3px 1px rgba(60, 64, 67, 0.15);\n",
              "      fill: #174EA6;\n",
              "    }\n",
              "\n",
              "    [theme=dark] .colab-df-convert {\n",
              "      background-color: #3B4455;\n",
              "      fill: #D2E3FC;\n",
              "    }\n",
              "\n",
              "    [theme=dark] .colab-df-convert:hover {\n",
              "      background-color: #434B5C;\n",
              "      box-shadow: 0px 1px 3px 1px rgba(0, 0, 0, 0.15);\n",
              "      filter: drop-shadow(0px 1px 2px rgba(0, 0, 0, 0.3));\n",
              "      fill: #FFFFFF;\n",
              "    }\n",
              "  </style>\n",
              "\n",
              "      <script>\n",
              "        const buttonEl =\n",
              "          document.querySelector('#df-ae0d661c-e477-4cdc-a2b2-cda5d818d693 button.colab-df-convert');\n",
              "        buttonEl.style.display =\n",
              "          google.colab.kernel.accessAllowed ? 'block' : 'none';\n",
              "\n",
              "        async function convertToInteractive(key) {\n",
              "          const element = document.querySelector('#df-ae0d661c-e477-4cdc-a2b2-cda5d818d693');\n",
              "          const dataTable =\n",
              "            await google.colab.kernel.invokeFunction('convertToInteractive',\n",
              "                                                     [key], {});\n",
              "          if (!dataTable) return;\n",
              "\n",
              "          const docLinkHtml = 'Like what you see? Visit the ' +\n",
              "            '<a target=\"_blank\" href=https://colab.research.google.com/notebooks/data_table.ipynb>data table notebook</a>'\n",
              "            + ' to learn more about interactive tables.';\n",
              "          element.innerHTML = '';\n",
              "          dataTable['output_type'] = 'display_data';\n",
              "          await google.colab.output.renderOutput(dataTable, element);\n",
              "          const docLink = document.createElement('div');\n",
              "          docLink.innerHTML = docLinkHtml;\n",
              "          element.appendChild(docLink);\n",
              "        }\n",
              "      </script>\n",
              "    </div>\n",
              "  </div>\n",
              "  "
            ]
          },
          "metadata": {},
          "execution_count": 6
        }
      ]
    },
    {
      "cell_type": "markdown",
      "source": [
        "Apart from the Target (Species), the variables 'island' and 'sex' are also of type Object. We will remove them previously in the separation of Training and Test data."
      ],
      "metadata": {
        "id": "kAJd0lT1O79q"
      }
    },
    {
      "cell_type": "code",
      "execution_count": 7,
      "metadata": {
        "id": "GWfNLsbocbaa",
        "colab": {
          "base_uri": "https://localhost:8080/"
        },
        "outputId": "15b6b1f4-3f0e-4b98-8b70-ba9aa4b97003"
      },
      "outputs": [
        {
          "output_type": "stream",
          "name": "stdout",
          "text": [
            "<class 'pandas.core.frame.DataFrame'>\n",
            "Int64Index: 334 entries, 0 to 343\n",
            "Data columns (total 7 columns):\n",
            " #   Column             Non-Null Count  Dtype  \n",
            "---  ------             --------------  -----  \n",
            " 0   species            334 non-null    object \n",
            " 1   island             334 non-null    object \n",
            " 2   culmen_length_mm   334 non-null    float64\n",
            " 3   culmen_depth_mm    334 non-null    float64\n",
            " 4   flipper_length_mm  334 non-null    float64\n",
            " 5   body_mass_g        334 non-null    float64\n",
            " 6   sex                334 non-null    object \n",
            "dtypes: float64(4), object(3)\n",
            "memory usage: 20.9+ KB\n"
          ]
        }
      ],
      "source": [
        "# We obtain the meta information from the dataset.\n",
        "penguins.info()"
      ]
    },
    {
      "cell_type": "markdown",
      "source": [
        "We note that both specias, island and sex are variables of type Object."
      ],
      "metadata": {
        "id": "VUmoy_8kHN9n"
      }
    },
    {
      "cell_type": "code",
      "source": [
        "penguins.describe()"
      ],
      "metadata": {
        "id": "0VLn1jJ7R3WH",
        "colab": {
          "base_uri": "https://localhost:8080/",
          "height": 300
        },
        "outputId": "0fafd4b8-c505-495e-b0c9-c076e53da4e1"
      },
      "execution_count": 8,
      "outputs": [
        {
          "output_type": "execute_result",
          "data": {
            "text/plain": [
              "       culmen_length_mm  culmen_depth_mm  flipper_length_mm  body_mass_g\n",
              "count        334.000000       334.000000         334.000000   334.000000\n",
              "mean          43.994311        17.160479         201.014970  4209.056886\n",
              "std            5.460521         1.967909          14.022175   804.836129\n",
              "min           32.100000        13.100000         172.000000  2700.000000\n",
              "25%           39.500000        15.600000         190.000000  3550.000000\n",
              "50%           44.500000        17.300000         197.000000  4050.000000\n",
              "75%           48.575000        18.700000         213.000000  4793.750000\n",
              "max           59.600000        21.500000         231.000000  6300.000000"
            ],
            "text/html": [
              "\n",
              "  <div id=\"df-c8ea1e75-5a69-4c49-a36f-ebbaae54508f\">\n",
              "    <div class=\"colab-df-container\">\n",
              "      <div>\n",
              "<style scoped>\n",
              "    .dataframe tbody tr th:only-of-type {\n",
              "        vertical-align: middle;\n",
              "    }\n",
              "\n",
              "    .dataframe tbody tr th {\n",
              "        vertical-align: top;\n",
              "    }\n",
              "\n",
              "    .dataframe thead th {\n",
              "        text-align: right;\n",
              "    }\n",
              "</style>\n",
              "<table border=\"1\" class=\"dataframe\">\n",
              "  <thead>\n",
              "    <tr style=\"text-align: right;\">\n",
              "      <th></th>\n",
              "      <th>culmen_length_mm</th>\n",
              "      <th>culmen_depth_mm</th>\n",
              "      <th>flipper_length_mm</th>\n",
              "      <th>body_mass_g</th>\n",
              "    </tr>\n",
              "  </thead>\n",
              "  <tbody>\n",
              "    <tr>\n",
              "      <th>count</th>\n",
              "      <td>334.000000</td>\n",
              "      <td>334.000000</td>\n",
              "      <td>334.000000</td>\n",
              "      <td>334.000000</td>\n",
              "    </tr>\n",
              "    <tr>\n",
              "      <th>mean</th>\n",
              "      <td>43.994311</td>\n",
              "      <td>17.160479</td>\n",
              "      <td>201.014970</td>\n",
              "      <td>4209.056886</td>\n",
              "    </tr>\n",
              "    <tr>\n",
              "      <th>std</th>\n",
              "      <td>5.460521</td>\n",
              "      <td>1.967909</td>\n",
              "      <td>14.022175</td>\n",
              "      <td>804.836129</td>\n",
              "    </tr>\n",
              "    <tr>\n",
              "      <th>min</th>\n",
              "      <td>32.100000</td>\n",
              "      <td>13.100000</td>\n",
              "      <td>172.000000</td>\n",
              "      <td>2700.000000</td>\n",
              "    </tr>\n",
              "    <tr>\n",
              "      <th>25%</th>\n",
              "      <td>39.500000</td>\n",
              "      <td>15.600000</td>\n",
              "      <td>190.000000</td>\n",
              "      <td>3550.000000</td>\n",
              "    </tr>\n",
              "    <tr>\n",
              "      <th>50%</th>\n",
              "      <td>44.500000</td>\n",
              "      <td>17.300000</td>\n",
              "      <td>197.000000</td>\n",
              "      <td>4050.000000</td>\n",
              "    </tr>\n",
              "    <tr>\n",
              "      <th>75%</th>\n",
              "      <td>48.575000</td>\n",
              "      <td>18.700000</td>\n",
              "      <td>213.000000</td>\n",
              "      <td>4793.750000</td>\n",
              "    </tr>\n",
              "    <tr>\n",
              "      <th>max</th>\n",
              "      <td>59.600000</td>\n",
              "      <td>21.500000</td>\n",
              "      <td>231.000000</td>\n",
              "      <td>6300.000000</td>\n",
              "    </tr>\n",
              "  </tbody>\n",
              "</table>\n",
              "</div>\n",
              "      <button class=\"colab-df-convert\" onclick=\"convertToInteractive('df-c8ea1e75-5a69-4c49-a36f-ebbaae54508f')\"\n",
              "              title=\"Convert this dataframe to an interactive table.\"\n",
              "              style=\"display:none;\">\n",
              "        \n",
              "  <svg xmlns=\"http://www.w3.org/2000/svg\" height=\"24px\"viewBox=\"0 0 24 24\"\n",
              "       width=\"24px\">\n",
              "    <path d=\"M0 0h24v24H0V0z\" fill=\"none\"/>\n",
              "    <path d=\"M18.56 5.44l.94 2.06.94-2.06 2.06-.94-2.06-.94-.94-2.06-.94 2.06-2.06.94zm-11 1L8.5 8.5l.94-2.06 2.06-.94-2.06-.94L8.5 2.5l-.94 2.06-2.06.94zm10 10l.94 2.06.94-2.06 2.06-.94-2.06-.94-.94-2.06-.94 2.06-2.06.94z\"/><path d=\"M17.41 7.96l-1.37-1.37c-.4-.4-.92-.59-1.43-.59-.52 0-1.04.2-1.43.59L10.3 9.45l-7.72 7.72c-.78.78-.78 2.05 0 2.83L4 21.41c.39.39.9.59 1.41.59.51 0 1.02-.2 1.41-.59l7.78-7.78 2.81-2.81c.8-.78.8-2.07 0-2.86zM5.41 20L4 18.59l7.72-7.72 1.47 1.35L5.41 20z\"/>\n",
              "  </svg>\n",
              "      </button>\n",
              "      \n",
              "  <style>\n",
              "    .colab-df-container {\n",
              "      display:flex;\n",
              "      flex-wrap:wrap;\n",
              "      gap: 12px;\n",
              "    }\n",
              "\n",
              "    .colab-df-convert {\n",
              "      background-color: #E8F0FE;\n",
              "      border: none;\n",
              "      border-radius: 50%;\n",
              "      cursor: pointer;\n",
              "      display: none;\n",
              "      fill: #1967D2;\n",
              "      height: 32px;\n",
              "      padding: 0 0 0 0;\n",
              "      width: 32px;\n",
              "    }\n",
              "\n",
              "    .colab-df-convert:hover {\n",
              "      background-color: #E2EBFA;\n",
              "      box-shadow: 0px 1px 2px rgba(60, 64, 67, 0.3), 0px 1px 3px 1px rgba(60, 64, 67, 0.15);\n",
              "      fill: #174EA6;\n",
              "    }\n",
              "\n",
              "    [theme=dark] .colab-df-convert {\n",
              "      background-color: #3B4455;\n",
              "      fill: #D2E3FC;\n",
              "    }\n",
              "\n",
              "    [theme=dark] .colab-df-convert:hover {\n",
              "      background-color: #434B5C;\n",
              "      box-shadow: 0px 1px 3px 1px rgba(0, 0, 0, 0.15);\n",
              "      filter: drop-shadow(0px 1px 2px rgba(0, 0, 0, 0.3));\n",
              "      fill: #FFFFFF;\n",
              "    }\n",
              "  </style>\n",
              "\n",
              "      <script>\n",
              "        const buttonEl =\n",
              "          document.querySelector('#df-c8ea1e75-5a69-4c49-a36f-ebbaae54508f button.colab-df-convert');\n",
              "        buttonEl.style.display =\n",
              "          google.colab.kernel.accessAllowed ? 'block' : 'none';\n",
              "\n",
              "        async function convertToInteractive(key) {\n",
              "          const element = document.querySelector('#df-c8ea1e75-5a69-4c49-a36f-ebbaae54508f');\n",
              "          const dataTable =\n",
              "            await google.colab.kernel.invokeFunction('convertToInteractive',\n",
              "                                                     [key], {});\n",
              "          if (!dataTable) return;\n",
              "\n",
              "          const docLinkHtml = 'Like what you see? Visit the ' +\n",
              "            '<a target=\"_blank\" href=https://colab.research.google.com/notebooks/data_table.ipynb>data table notebook</a>'\n",
              "            + ' to learn more about interactive tables.';\n",
              "          element.innerHTML = '';\n",
              "          dataTable['output_type'] = 'display_data';\n",
              "          await google.colab.output.renderOutput(dataTable, element);\n",
              "          const docLink = document.createElement('div');\n",
              "          docLink.innerHTML = docLinkHtml;\n",
              "          element.appendChild(docLink);\n",
              "        }\n",
              "      </script>\n",
              "    </div>\n",
              "  </div>\n",
              "  "
            ]
          },
          "metadata": {},
          "execution_count": 8
        }
      ]
    },
    {
      "cell_type": "code",
      "metadata": {
        "id": "xxNx-qzWVNZn",
        "colab": {
          "base_uri": "https://localhost:8080/",
          "height": 608
        },
        "outputId": "b4eaa128-84a3-4032-f8c9-bb19f3086ce7"
      },
      "source": [
        "%matplotlib inline\n",
        "import matplotlib.pyplot as plt\n",
        "penguins.hist(bins = 50, figsize=(15,10))\n",
        "plt.show() "
      ],
      "execution_count": 9,
      "outputs": [
        {
          "output_type": "display_data",
          "data": {
            "text/plain": [
              "<Figure size 1080x720 with 4 Axes>"
            ],
            "image/png": "[encoded data removed]"
          },
          "metadata": {
            "needs_background": "light"
          }
        }
      ]
    },
    {
      "cell_type": "markdown",
      "source": [
        "No out-of-range values are observed."
      ],
      "metadata": {
        "id": "dp1u7UegSgaK"
      }
    },
    {
      "cell_type": "code",
      "source": [
        "plp.figure(figsize=(15, 10))\n",
        "correlacion = penguins.corr()\n",
        "sns.heatmap(correlacion, annot=True);"
      ],
      "metadata": {
        "id": "5XMkzkPih-8P",
        "colab": {
          "base_uri": "https://localhost:8080/",
          "height": 596
        },
        "outputId": "c18adcea-4b96-4683-ceda-484a5507a03e"
      },
      "execution_count": 10,
      "outputs": [
        {
          "output_type": "display_data",
          "data": {
            "text/plain": [
              "<Figure size 1080x720 with 2 Axes>"
            ],
            "image/png": "[encoded data removed]"
          },
          "metadata": {
            "needs_background": "light"
          }
        }
      ]
    },
    {
      "cell_type": "markdown",
      "source": [
        "\n",
        "###1.1 SEPARATING TRAINING FROM TESTING USING THE CLASSIFICATION MODEL KNN (KNEIGHBORSCLASSIFIER)"
      ],
      "metadata": {
        "id": "Ax17CEn9DGKs"
      }
    },
    {
      "cell_type": "markdown",
      "metadata": {
        "id": "UrzNoaYlgD_a"
      },
      "source": [
        "Data preparation, \"model\" training and predictions. We will use **k=3**, so that each prediction will be based on the three instances closest to each test instance."
      ]
    },
    {
      "cell_type": "code",
      "metadata": {
        "id": "-Zew6XgeAIAL"
      },
      "source": [
        "# Separate predictor attributes and class attribute.\n",
        "# For predictor attributes we keep only \"culmen_length_mm\" and \"culmen_depth_mm\".\n",
        "#X = penguins[[\"culmen_length_mm\",\"culmen_depth_mm\"]]\n",
        "X = penguins[[\"culmen_length_mm\",\"flipper_length_mm\"]]\n",
        "y = penguins[\"species\"]\n",
        "\n",
        "# Create training and test sets\n",
        "X_train, X_test, y_train, y_test = train_test_split(X, y, test_size=.3, random_state=4)\n",
        "\n",
        "# Initialize a kNN classification model, with hyperparameter 'k=3'.\n",
        "knn = KNeighborsClassifier(n_neighbors=3)\n",
        "\n",
        "# Train model: it may seem confusing to do this, since we are talking about an instance-based algorithm.\n",
        "# However, we need to do this because the 'model' will be the training data itself..\n",
        "knn.fit(X_train, y_train)\n",
        "\n",
        "# Making predictions on test data\n",
        "predictions = knn.predict(X_test)"
      ],
      "execution_count": 11,
      "outputs": []
    },
    {
      "cell_type": "code",
      "metadata": {
        "id": "tB8sT-WygyNZ",
        "colab": {
          "base_uri": "https://localhost:8080/"
        },
        "outputId": "07a2e244-c1a4-4974-8b7b-bdcba8f00cbe"
      },
      "source": [
        "accuracy_score(y_test, predictions) "
      ],
      "execution_count": 12,
      "outputs": [
        {
          "output_type": "execute_result",
          "data": {
            "text/plain": [
              "0.9504950495049505"
            ]
          },
          "metadata": {},
          "execution_count": 12
        }
      ]
    },
    {
      "cell_type": "markdown",
      "source": [
        "### 1.3. SOFTMAX REGRESSION\n"
      ],
      "metadata": {
        "id": "8LWdGiX9cZQM"
      }
    },
    {
      "cell_type": "code",
      "source": [
        "from sklearn.linear_model import LogisticRegression\n",
        "\n",
        "softmax_reg = LogisticRegression(multi_class=\"multinomial\", solver=\"lbfgs\")\n",
        "softmax_reg.fit(X, y)\n"
      ],
      "metadata": {
        "id": "f2Cy8dlPbJN3",
        "colab": {
          "base_uri": "https://localhost:8080/"
        },
        "outputId": "0cc82805-ce59-4ab7-879e-f7a54c9a8902"
      },
      "execution_count": 13,
      "outputs": [
        {
          "output_type": "stream",
          "name": "stderr",
          "text": [
            "/usr/local/lib/python3.7/dist-packages/sklearn/linear_model/_logistic.py:818: ConvergenceWarning: lbfgs failed to converge (status=1):\n",
            "STOP: TOTAL NO. of ITERATIONS REACHED LIMIT.\n",
            "\n",
            "Increase the number of iterations (max_iter) or scale the data as shown in:\n",
            "    https://scikit-learn.org/stable/modules/preprocessing.html\n",
            "Please also refer to the documentation for alternative solver options:\n",
            "    https://scikit-learn.org/stable/modules/linear_model.html#logistic-regression\n",
            "  extra_warning_msg=_LOGISTIC_SOLVER_CONVERGENCE_MSG,\n"
          ]
        },
        {
          "output_type": "execute_result",
          "data": {
            "text/plain": [
              "LogisticRegression(multi_class='multinomial')"
            ]
          },
          "metadata": {},
          "execution_count": 13
        }
      ]
    },
    {
      "cell_type": "code",
      "source": [
        "penguins.head()\n"
      ],
      "metadata": {
        "id": "JMzGP-cbW1W1",
        "colab": {
          "base_uri": "https://localhost:8080/",
          "height": 206
        },
        "outputId": "b1a3c8e5-2525-4e25-e871-e02d144f2c35"
      },
      "execution_count": 14,
      "outputs": [
        {
          "output_type": "execute_result",
          "data": {
            "text/plain": [
              "  species     island  culmen_length_mm  culmen_depth_mm  flipper_length_mm  \\\n",
              "0  Adelie  Torgersen              39.1             18.7              181.0   \n",
              "1  Adelie  Torgersen              39.5             17.4              186.0   \n",
              "2  Adelie  Torgersen              40.3             18.0              195.0   \n",
              "4  Adelie  Torgersen              36.7             19.3              193.0   \n",
              "5  Adelie  Torgersen              39.3             20.6              190.0   \n",
              "\n",
              "   body_mass_g     sex  \n",
              "0       3750.0    MALE  \n",
              "1       3800.0  FEMALE  \n",
              "2       3250.0  FEMALE  \n",
              "4       3450.0  FEMALE  \n",
              "5       3650.0    MALE  "
            ],
            "text/html": [
              "\n",
              "  <div id=\"df-efe147f4-6b54-47e7-98ae-eef99cb692e9\">\n",
              "    <div class=\"colab-df-container\">\n",
              "      <div>\n",
              "<style scoped>\n",
              "    .dataframe tbody tr th:only-of-type {\n",
              "        vertical-align: middle;\n",
              "    }\n",
              "\n",
              "    .dataframe tbody tr th {\n",
              "        vertical-align: top;\n",
              "    }\n",
              "\n",
              "    .dataframe thead th {\n",
              "        text-align: right;\n",
              "    }\n",
              "</style>\n",
              "<table border=\"1\" class=\"dataframe\">\n",
              "  <thead>\n",
              "    <tr style=\"text-align: right;\">\n",
              "      <th></th>\n",
              "      <th>species</th>\n",
              "      <th>island</th>\n",
              "      <th>culmen_length_mm</th>\n",
              "      <th>culmen_depth_mm</th>\n",
              "      <th>flipper_length_mm</th>\n",
              "      <th>body_mass_g</th>\n",
              "      <th>sex</th>\n",
              "    </tr>\n",
              "  </thead>\n",
              "  <tbody>\n",
              "    <tr>\n",
              "      <th>0</th>\n",
              "      <td>Adelie</td>\n",
              "      <td>Torgersen</td>\n",
              "      <td>39.1</td>\n",
              "      <td>18.7</td>\n",
              "      <td>181.0</td>\n",
              "      <td>3750.0</td>\n",
              "      <td>MALE</td>\n",
              "    </tr>\n",
              "    <tr>\n",
              "      <th>1</th>\n",
              "      <td>Adelie</td>\n",
              "      <td>Torgersen</td>\n",
              "      <td>39.5</td>\n",
              "      <td>17.4</td>\n",
              "      <td>186.0</td>\n",
              "      <td>3800.0</td>\n",
              "      <td>FEMALE</td>\n",
              "    </tr>\n",
              "    <tr>\n",
              "      <th>2</th>\n",
              "      <td>Adelie</td>\n",
              "      <td>Torgersen</td>\n",
              "      <td>40.3</td>\n",
              "      <td>18.0</td>\n",
              "      <td>195.0</td>\n",
              "      <td>3250.0</td>\n",
              "      <td>FEMALE</td>\n",
              "    </tr>\n",
              "    <tr>\n",
              "      <th>4</th>\n",
              "      <td>Adelie</td>\n",
              "      <td>Torgersen</td>\n",
              "      <td>36.7</td>\n",
              "      <td>19.3</td>\n",
              "      <td>193.0</td>\n",
              "      <td>3450.0</td>\n",
              "      <td>FEMALE</td>\n",
              "    </tr>\n",
              "    <tr>\n",
              "      <th>5</th>\n",
              "      <td>Adelie</td>\n",
              "      <td>Torgersen</td>\n",
              "      <td>39.3</td>\n",
              "      <td>20.6</td>\n",
              "      <td>190.0</td>\n",
              "      <td>3650.0</td>\n",
              "      <td>MALE</td>\n",
              "    </tr>\n",
              "  </tbody>\n",
              "</table>\n",
              "</div>\n",
              "      <button class=\"colab-df-convert\" onclick=\"convertToInteractive('df-efe147f4-6b54-47e7-98ae-eef99cb692e9')\"\n",
              "              title=\"Convert this dataframe to an interactive table.\"\n",
              "              style=\"display:none;\">\n",
              "        \n",
              "  <svg xmlns=\"http://www.w3.org/2000/svg\" height=\"24px\"viewBox=\"0 0 24 24\"\n",
              "       width=\"24px\">\n",
              "    <path d=\"M0 0h24v24H0V0z\" fill=\"none\"/>\n",
              "    <path d=\"M18.56 5.44l.94 2.06.94-2.06 2.06-.94-2.06-.94-.94-2.06-.94 2.06-2.06.94zm-11 1L8.5 8.5l.94-2.06 2.06-.94-2.06-.94L8.5 2.5l-.94 2.06-2.06.94zm10 10l.94 2.06.94-2.06 2.06-.94-2.06-.94-.94-2.06-.94 2.06-2.06.94z\"/><path d=\"M17.41 7.96l-1.37-1.37c-.4-.4-.92-.59-1.43-.59-.52 0-1.04.2-1.43.59L10.3 9.45l-7.72 7.72c-.78.78-.78 2.05 0 2.83L4 21.41c.39.39.9.59 1.41.59.51 0 1.02-.2 1.41-.59l7.78-7.78 2.81-2.81c.8-.78.8-2.07 0-2.86zM5.41 20L4 18.59l7.72-7.72 1.47 1.35L5.41 20z\"/>\n",
              "  </svg>\n",
              "      </button>\n",
              "      \n",
              "  <style>\n",
              "    .colab-df-container {\n",
              "      display:flex;\n",
              "      flex-wrap:wrap;\n",
              "      gap: 12px;\n",
              "    }\n",
              "\n",
              "    .colab-df-convert {\n",
              "      background-color: #E8F0FE;\n",
              "      border: none;\n",
              "      border-radius: 50%;\n",
              "      cursor: pointer;\n",
              "      display: none;\n",
              "      fill: #1967D2;\n",
              "      height: 32px;\n",
              "      padding: 0 0 0 0;\n",
              "      width: 32px;\n",
              "    }\n",
              "\n",
              "    .colab-df-convert:hover {\n",
              "      background-color: #E2EBFA;\n",
              "      box-shadow: 0px 1px 2px rgba(60, 64, 67, 0.3), 0px 1px 3px 1px rgba(60, 64, 67, 0.15);\n",
              "      fill: #174EA6;\n",
              "    }\n",
              "\n",
              "    [theme=dark] .colab-df-convert {\n",
              "      background-color: #3B4455;\n",
              "      fill: #D2E3FC;\n",
              "    }\n",
              "\n",
              "    [theme=dark] .colab-df-convert:hover {\n",
              "      background-color: #434B5C;\n",
              "      box-shadow: 0px 1px 3px 1px rgba(0, 0, 0, 0.15);\n",
              "      filter: drop-shadow(0px 1px 2px rgba(0, 0, 0, 0.3));\n",
              "      fill: #FFFFFF;\n",
              "    }\n",
              "  </style>\n",
              "\n",
              "      <script>\n",
              "        const buttonEl =\n",
              "          document.querySelector('#df-efe147f4-6b54-47e7-98ae-eef99cb692e9 button.colab-df-convert');\n",
              "        buttonEl.style.display =\n",
              "          google.colab.kernel.accessAllowed ? 'block' : 'none';\n",
              "\n",
              "        async function convertToInteractive(key) {\n",
              "          const element = document.querySelector('#df-efe147f4-6b54-47e7-98ae-eef99cb692e9');\n",
              "          const dataTable =\n",
              "            await google.colab.kernel.invokeFunction('convertToInteractive',\n",
              "                                                     [key], {});\n",
              "          if (!dataTable) return;\n",
              "\n",
              "          const docLinkHtml = 'Like what you see? Visit the ' +\n",
              "            '<a target=\"_blank\" href=https://colab.research.google.com/notebooks/data_table.ipynb>data table notebook</a>'\n",
              "            + ' to learn more about interactive tables.';\n",
              "          element.innerHTML = '';\n",
              "          dataTable['output_type'] = 'display_data';\n",
              "          await google.colab.output.renderOutput(dataTable, element);\n",
              "          const docLink = document.createElement('div');\n",
              "          docLink.innerHTML = docLinkHtml;\n",
              "          element.appendChild(docLink);\n",
              "        }\n",
              "      </script>\n",
              "    </div>\n",
              "  </div>\n",
              "  "
            ]
          },
          "metadata": {},
          "execution_count": 14
        }
      ]
    },
    {
      "cell_type": "code",
      "source": [
        "softmax_reg.predict_proba([[43, 17.2]])"
      ],
      "metadata": {
        "id": "48z986ffeCYW",
        "colab": {
          "base_uri": "https://localhost:8080/"
        },
        "outputId": "0fb83314-77f4-4597-94cb-dfdb847e3ce7"
      },
      "execution_count": 15,
      "outputs": [
        {
          "output_type": "stream",
          "name": "stderr",
          "text": [
            "/usr/local/lib/python3.7/dist-packages/sklearn/base.py:451: UserWarning: X does not have valid feature names, but LogisticRegression was fitted with feature names\n",
            "  \"X does not have valid feature names, but\"\n"
          ]
        },
        {
          "output_type": "execute_result",
          "data": {
            "text/plain": [
              "array([[7.32346976e-13, 1.00000000e+00, 2.88375778e-52]])"
            ]
          },
          "metadata": {},
          "execution_count": 15
        }
      ]
    },
    {
      "cell_type": "markdown",
      "source": [
        "For a beak length of 43mm and a beak depth of 17.2mm, we have the following probabilities for the following Target species:\n",
        "\n",
        "\n",
        "*   Adelie: 0%\n",
        "*   Chinstrap: 100%\n",
        "*   Gentoo: 0%\n",
        "\n",
        "Therefore, for these values we would have a 100% probability that it was a Penguin of the species **Chinstrap**.\n",
        "\n",
        "\n",
        "\n"
      ],
      "metadata": {
        "id": "a5NE4idnXrGf"
      }
    },
    {
      "cell_type": "code",
      "source": [
        "score = softmax_reg.score(X_train,y_train)\n",
        "score"
      ],
      "metadata": {
        "id": "RtGcA4mLeE-s",
        "colab": {
          "base_uri": "https://localhost:8080/"
        },
        "outputId": "287699e3-0873-4b9c-af63-20699bbbf515"
      },
      "execution_count": 16,
      "outputs": [
        {
          "output_type": "execute_result",
          "data": {
            "text/plain": [
              "0.9570815450643777"
            ]
          },
          "metadata": {},
          "execution_count": 16
        }
      ]
    },
    {
      "cell_type": "code",
      "source": [
        "score = softmax_reg.score(X_test,y_test)\n",
        "score"
      ],
      "metadata": {
        "id": "PZs7igC5hML9",
        "colab": {
          "base_uri": "https://localhost:8080/"
        },
        "outputId": "91e8c4d9-7809-4c18-cd1b-34fbcd246ee4"
      },
      "execution_count": 17,
      "outputs": [
        {
          "output_type": "execute_result",
          "data": {
            "text/plain": [
              "0.9603960396039604"
            ]
          },
          "metadata": {},
          "execution_count": 17
        }
      ]
    },
    {
      "cell_type": "markdown",
      "source": [
        "The accuracy of the Softmax model in Training is 95.2% and in Test 97.6%.\n",
        "Some underfitting is noted."
      ],
      "metadata": {
        "id": "NWNwA9MpYhu7"
      }
    },
    {
      "cell_type": "code",
      "source": [
        "y_pred_sf = softmax_reg.predict(X)\n",
        "print('Goodness of fit with SoftMax\\n')\n",
        "from sklearn.metrics import classification_report\n",
        "print(classification_report(y, y_pred_sf))"
      ],
      "metadata": {
        "id": "DQkO1trqEUXE",
        "colab": {
          "base_uri": "https://localhost:8080/"
        },
        "outputId": "c933a0d9-9793-45a8-be1e-e5e23cd4b5f0"
      },
      "execution_count": 18,
      "outputs": [
        {
          "output_type": "stream",
          "name": "stdout",
          "text": [
            "Goodness of fit with SoftMax\n",
            "\n",
            "              precision    recall  f1-score   support\n",
            "\n",
            "      Adelie       0.96      0.97      0.96       146\n",
            "   Chinstrap       0.94      0.88      0.91        68\n",
            "      Gentoo       0.97      0.99      0.98       120\n",
            "\n",
            "    accuracy                           0.96       334\n",
            "   macro avg       0.95      0.95      0.95       334\n",
            "weighted avg       0.96      0.96      0.96       334\n",
            "\n"
          ]
        }
      ]
    },
    {
      "cell_type": "code",
      "source": [
        "from sklearn.metrics import confusion_matrix, ConfusionMatrixDisplay\n",
        "cm = confusion_matrix(y, y_pred_sf)\n",
        "disp = ConfusionMatrixDisplay(confusion_matrix=cm)\n",
        "disp.plot()\n",
        "plt.show()"
      ],
      "metadata": {
        "id": "0un9TEwHZ3KU",
        "colab": {
          "base_uri": "https://localhost:8080/",
          "height": 282
        },
        "outputId": "b6afd7a8-87d1-4666-d13a-4f559917d93b"
      },
      "execution_count": 19,
      "outputs": [
        {
          "output_type": "display_data",
          "data": {
            "text/plain": [
              "<Figure size 432x288 with 2 Axes>"
            ],
            "image/png": "[encoded data removed]"
          },
          "metadata": {
            "needs_background": "light"
          }
        }
      ]
    },
    {
      "cell_type": "markdown",
      "source": [
        "Interpretation of the Confusion matrix:\n",
        "\n",
        "* For species 0 (Adelie), we would have from a total of 148, 141 positives and 3 false positives that would certainly belong to species 2 (Chinstrap).\n",
        "* For species 1 (Chinstrap), we would have a total of 68, 60 positives and 6 false positives that would belong to species 0 (Adelie) and 2 false positives that would belong to species 0 (Gentoo).\n",
        "* For species 2 (Gentoo), we would have a total of 120, 119 positives and 1 false positive belonging to species 1 (Chinstrap).\n",
        "\n",
        "\n",
        "\n"
      ],
      "metadata": {
        "id": "j3q1j_l-Y7Iq"
      }
    },
    {
      "cell_type": "markdown",
      "source": [
        "##1.4. Training and evaluation of a SVM classifier on test data\n",
        "\n",
        "\n",
        "\n",
        "\n"
      ],
      "metadata": {
        "id": "Xs6zHYtWZkgZ"
      }
    },
    {
      "cell_type": "code",
      "source": [
        "from sklearn.pipeline import Pipeline\n",
        "from sklearn.preprocessing import StandardScaler\n",
        "from sklearn.svm import LinearSVC # SVC: Support Vector Classification\n",
        "from sklearn.metrics import accuracy_score\n",
        "\n",
        "X_train, X_test, y_train, y_test = train_test_split(\n",
        "                        X, y, test_size=.2, random_state=42)\n",
        "\n",
        "svm = Pipeline([\n",
        "                           (\"scaler\", StandardScaler()),\n",
        "                           (\"linear_svc\", LinearSVC(C=1, loss=\"hinge\", fit_intercept=False)),\n",
        "])\n",
        "\n",
        "svm.fit(X_train, y_train)\n",
        "\n",
        "y_pred_test = svm.predict(X_test)\n",
        "svm_acc = accuracy_score(y_test, y_pred_test)\n",
        "svm_acc"
      ],
      "metadata": {
        "id": "gxxkFmNyTN0a",
        "colab": {
          "base_uri": "https://localhost:8080/"
        },
        "outputId": "8ca7649f-85f6-46e6-e12b-f515855ada9c"
      },
      "execution_count": 20,
      "outputs": [
        {
          "output_type": "execute_result",
          "data": {
            "text/plain": [
              "1.0"
            ]
          },
          "metadata": {},
          "execution_count": 20
        }
      ]
    },
    {
      "cell_type": "markdown",
      "source": [
        "After several tests, I have settled on the following hyperparameters for the SVM classifier:\n",
        "Scaler: \n",
        "* Standardscaler\n",
        "* C : 1\n",
        "* Loss: Hinge\n",
        "\n",
        "Which has given us an accuracy of 100%. \n",
        "\n",
        "Goodness or Accuracy in the classification with the SVM model: We obtained a goodness of 100% for the classification of the Gentoo type penguins, 100% for the Adelie type and 100% for the Chinstrap type.\n",
        "\n",
        "Therefore, I consider the SVM classification model much more adequate than the Softmax one, based on the results obtained in both classifications.\n",
        " \n"
      ],
      "metadata": {
        "id": "3IuETXs4Ds9p"
      }
    },
    {
      "cell_type": "code",
      "source": [
        "print('Goodness of classification with SVM\\n')\n",
        "from sklearn.metrics import classification_report\n",
        "print(classification_report(y_test, y_pred_test))"
      ],
      "metadata": {
        "id": "JHeQta6e9W7Y",
        "colab": {
          "base_uri": "https://localhost:8080/"
        },
        "outputId": "d87c2afc-5b19-4aaf-c8d5-fc2da5f3c8ec"
      },
      "execution_count": 21,
      "outputs": [
        {
          "output_type": "stream",
          "name": "stdout",
          "text": [
            "Goodness of classification with SVM\n",
            "\n",
            "              precision    recall  f1-score   support\n",
            "\n",
            "      Adelie       1.00      1.00      1.00        31\n",
            "   Chinstrap       1.00      1.00      1.00        13\n",
            "      Gentoo       1.00      1.00      1.00        23\n",
            "\n",
            "    accuracy                           1.00        67\n",
            "   macro avg       1.00      1.00      1.00        67\n",
            "weighted avg       1.00      1.00      1.00        67\n",
            "\n"
          ]
        }
      ]
    },
    {
      "cell_type": "code",
      "source": [
        "from sklearn.metrics import confusion_matrix, ConfusionMatrixDisplay\n",
        "cm = confusion_matrix(y_test, y_pred_test)\n",
        "disp = ConfusionMatrixDisplay(confusion_matrix=cm)\n",
        "disp.plot()\n",
        "plt.show()"
      ],
      "metadata": {
        "id": "IKnj2u2fHbTL",
        "colab": {
          "base_uri": "https://localhost:8080/",
          "height": 279
        },
        "outputId": "ea2e9595-e1d6-4659-c2e5-355904a5d26c"
      },
      "execution_count": 22,
      "outputs": [
        {
          "output_type": "display_data",
          "data": {
            "text/plain": [
              "<Figure size 432x288 with 2 Axes>"
            ],
            "image/png": "[encoded data removed]"
          },
          "metadata": {
            "needs_background": "light"
          }
        }
      ]
    },
    {
      "cell_type": "markdown",
      "source": [
        "Interpretation of the Confusion matrix for the test data:\n",
        "\n",
        "* For species 0 (Adelie), we would have a total of 31 positives and no false positives.\n",
        "* For species 1 (Chinstrap), we would have a total of 13 positives and no false positives.\n",
        "* For species 2 (Gentoo), we would have a total of 23 positives and no false positives.\n",
        "\n",
        "\n"
      ],
      "metadata": {
        "id": "ANZbzELUH1Yg"
      }
    },
    {
      "cell_type": "markdown",
      "source": [
        "##2. Train 4 decision tree models: one of them without any constraints (without specifying hyperparameters), and the other three under different hyperparameter settings that apply regularization on the tree growth and shape during training."
      ],
      "metadata": {
        "id": "aPc9ET1fFlTm"
      }
    },
    {
      "cell_type": "code",
      "source": [
        "from sklearn.model_selection import train_test_split\n",
        "\n",
        "X_train, X_test, y_train, y_test = train_test_split(X, y, test_size=0.25, random_state=42)"
      ],
      "metadata": {
        "id": "VRB0VbDTS0bu"
      },
      "execution_count": 23,
      "outputs": []
    },
    {
      "cell_type": "code",
      "source": [
        "# Training the two trees\n",
        "\n",
        "from sklearn.tree import DecisionTreeClassifier\n",
        "\n",
        "tree4 = DecisionTreeClassifier(random_state=42)\n",
        "tree4.fit(X_train, y_train)\n",
        "\n",
        "tree5 = DecisionTreeClassifier(min_samples_split=6, random_state=42)\n",
        "tree5.fit(X_train, y_train)\n",
        "\n",
        "tree6 = DecisionTreeClassifier(max_depth = 4, random_state=42)\n",
        "tree6.fit(X_train, y_train)\n",
        "\n",
        "tree7 = DecisionTreeClassifier(min_samples_leaf=3, random_state=42)\n",
        "tree7.fit(X_train, y_train)\n",
        "\n",
        "tree8 = DecisionTreeClassifier(max_features='auto', random_state=42)\n",
        "tree8.fit(X_train, y_train)"
      ],
      "metadata": {
        "id": "IS3R0qg3fJ0c",
        "colab": {
          "base_uri": "https://localhost:8080/"
        },
        "outputId": "4929fc0b-0dd4-48c6-ce65-766871514aae"
      },
      "execution_count": 24,
      "outputs": [
        {
          "output_type": "execute_result",
          "data": {
            "text/plain": [
              "DecisionTreeClassifier(max_features='auto', random_state=42)"
            ]
          },
          "metadata": {},
          "execution_count": 24
        }
      ]
    },
    {
      "cell_type": "markdown",
      "source": [
        "##2.1. Evaluate the accuracy of the training and the first tree test."
      ],
      "metadata": {
        "id": "9SZTXC_j7bAo"
      }
    },
    {
      "cell_type": "code",
      "source": [
        "from sklearn.metrics import accuracy_score\n",
        "\n",
        "y_pred1_tr = tree4.predict(X_train)\n",
        "accuracy_score(y_pred1_tr, y_train)"
      ],
      "metadata": {
        "id": "ma91XVIfcmsa",
        "colab": {
          "base_uri": "https://localhost:8080/"
        },
        "outputId": "8558cb97-1e59-4cce-f377-0323ef0444b4"
      },
      "execution_count": 25,
      "outputs": [
        {
          "output_type": "execute_result",
          "data": {
            "text/plain": [
              "1.0"
            ]
          },
          "metadata": {},
          "execution_count": 25
        }
      ]
    },
    {
      "cell_type": "code",
      "source": [
        "y_pred1 = tree4.predict(X_test)\n",
        "tree4_acc= accuracy_score(y_pred1, y_test)\n",
        "tree4_acc"
      ],
      "metadata": {
        "id": "LgpUWaKlfu6L",
        "colab": {
          "base_uri": "https://localhost:8080/"
        },
        "outputId": "0e4bf120-99ea-42fa-93a8-af597412ebe2"
      },
      "execution_count": 26,
      "outputs": [
        {
          "output_type": "execute_result",
          "data": {
            "text/plain": [
              "0.9761904761904762"
            ]
          },
          "metadata": {},
          "execution_count": 26
        }
      ]
    },
    {
      "cell_type": "markdown",
      "source": [
        "Less than a 3% difference between the training and the test indicates a small overfit of the model."
      ],
      "metadata": {
        "id": "CueFMFH0fJS1"
      }
    },
    {
      "cell_type": "markdown",
      "source": [
        "##2.2. Second Tree: Max Samples Split"
      ],
      "metadata": {
        "id": "C67JlZETgKgr"
      }
    },
    {
      "cell_type": "code",
      "source": [
        "y_pred2_tr = tree5.predict(X_train)\n",
        "accuracy_score(y_pred2_tr, y_train)"
      ],
      "metadata": {
        "id": "F-wtIkwPczxL",
        "colab": {
          "base_uri": "https://localhost:8080/"
        },
        "outputId": "809ec732-ec52-48a4-ebdd-877c59f47558"
      },
      "execution_count": 27,
      "outputs": [
        {
          "output_type": "execute_result",
          "data": {
            "text/plain": [
              "0.976"
            ]
          },
          "metadata": {},
          "execution_count": 27
        }
      ]
    },
    {
      "cell_type": "code",
      "source": [
        "y_pred2 = tree5.predict(X_test)\n",
        "tree5_acc=accuracy_score(y_pred2, y_test)\n",
        "tree5_acc"
      ],
      "metadata": {
        "id": "xBo9aBsYiV4l",
        "colab": {
          "base_uri": "https://localhost:8080/"
        },
        "outputId": "cb7e7e63-e297-43ff-9284-1acd12e0a844"
      },
      "execution_count": 28,
      "outputs": [
        {
          "output_type": "execute_result",
          "data": {
            "text/plain": [
              "0.9761904761904762"
            ]
          },
          "metadata": {},
          "execution_count": 28
        }
      ]
    },
    {
      "cell_type": "markdown",
      "source": [
        "Both Train and Test have a good predictive value (96%) and more importantly, the same result in both. The almost perfect model (perfect would be 100% in both)."
      ],
      "metadata": {
        "id": "jJdAHzEQflkY"
      }
    },
    {
      "cell_type": "markdown",
      "source": [
        "##2.3. Third Tree: Max Depth = 4 \n",
        "\n",
        "\n",
        "\n"
      ],
      "metadata": {
        "id": "GR9VWqOpgQzZ"
      }
    },
    {
      "cell_type": "code",
      "source": [
        "y_pred3_tr = tree6.predict(X_train)\n",
        "accuracy_score(y_pred3_tr, y_train)"
      ],
      "metadata": {
        "id": "7R2gj_eogQzZ",
        "colab": {
          "base_uri": "https://localhost:8080/"
        },
        "outputId": "a3a0a476-7b3e-4788-e65d-af7d83bb3814"
      },
      "execution_count": 29,
      "outputs": [
        {
          "output_type": "execute_result",
          "data": {
            "text/plain": [
              "0.972"
            ]
          },
          "metadata": {},
          "execution_count": 29
        }
      ]
    },
    {
      "cell_type": "code",
      "source": [
        "y_pred3 = tree6.predict(X_test)\n",
        "tree6_acc=accuracy_score(y_pred3, y_test)\n",
        "tree6_acc"
      ],
      "metadata": {
        "id": "ai98wHgtgQza",
        "colab": {
          "base_uri": "https://localhost:8080/"
        },
        "outputId": "6e0cebf1-3d3e-427f-a3af-3b2b020faf2a"
      },
      "execution_count": 30,
      "outputs": [
        {
          "output_type": "execute_result",
          "data": {
            "text/plain": [
              "0.9761904761904762"
            ]
          },
          "metadata": {},
          "execution_count": 30
        }
      ]
    },
    {
      "cell_type": "markdown",
      "source": [
        "In a data separation in which only the Object attributes are removed from the X attributes, we obtain more overfitting than when we define the X variable with only the attributes of peak length and wing length. The latter confidurtation gives us an almost perfect result without overfitting. "
      ],
      "metadata": {
        "id": "aErUziWsh448"
      }
    },
    {
      "cell_type": "markdown",
      "source": [
        "##2.4. Fourth Tree: Min Samples leaf"
      ],
      "metadata": {
        "id": "38DS5ZxUg7Ya"
      }
    },
    {
      "cell_type": "code",
      "source": [
        "y_pred4_tr = tree7.predict(X_train)\n",
        "accuracy_score(y_pred4_tr, y_train)"
      ],
      "metadata": {
        "id": "ZJ44Y2t7g7Ya",
        "colab": {
          "base_uri": "https://localhost:8080/"
        },
        "outputId": "d2397876-cfce-41cd-9422-852893b5d1d7"
      },
      "execution_count": 31,
      "outputs": [
        {
          "output_type": "execute_result",
          "data": {
            "text/plain": [
              "0.968"
            ]
          },
          "metadata": {},
          "execution_count": 31
        }
      ]
    },
    {
      "cell_type": "code",
      "source": [
        "y_pred4 = tree7.predict(X_test)\n",
        "tree7_acc=accuracy_score(y_pred4, y_test)\n",
        "tree7_acc"
      ],
      "metadata": {
        "id": "cHtRiON0g7Yb",
        "colab": {
          "base_uri": "https://localhost:8080/"
        },
        "outputId": "a215c1df-0116-44dc-9311-210745dd3d68"
      },
      "execution_count": 32,
      "outputs": [
        {
          "output_type": "execute_result",
          "data": {
            "text/plain": [
              "0.9880952380952381"
            ]
          },
          "metadata": {},
          "execution_count": 32
        }
      ]
    },
    {
      "cell_type": "markdown",
      "source": [
        "##2.5. Fifth Tree: Max features"
      ],
      "metadata": {
        "id": "ZLHM6kdWidRA"
      }
    },
    {
      "cell_type": "code",
      "source": [
        "y_pred5_tr = tree8.predict(X_train)\n",
        "accuracy_score(y_pred5_tr, y_train)"
      ],
      "metadata": {
        "id": "jNJU47EKidRB",
        "colab": {
          "base_uri": "https://localhost:8080/"
        },
        "outputId": "3fe5b207-d439-4193-e314-b2619034834d"
      },
      "execution_count": 33,
      "outputs": [
        {
          "output_type": "execute_result",
          "data": {
            "text/plain": [
              "1.0"
            ]
          },
          "metadata": {},
          "execution_count": 33
        }
      ]
    },
    {
      "cell_type": "code",
      "source": [
        "y_pred5 = tree8.predict(X_test)\n",
        "tree8_acc=accuracy_score(y_pred5, y_test)\n",
        "tree8_acc"
      ],
      "metadata": {
        "id": "RxNyGeJpidRC",
        "colab": {
          "base_uri": "https://localhost:8080/"
        },
        "outputId": "b194bbce-1007-43da-a5d2-9160ad58f226"
      },
      "execution_count": 34,
      "outputs": [
        {
          "output_type": "execute_result",
          "data": {
            "text/plain": [
              "0.9642857142857143"
            ]
          },
          "metadata": {},
          "execution_count": 34
        }
      ]
    },
    {
      "cell_type": "markdown",
      "source": [
        "Using any of the 3 features (auto, sqrt, log2) does not make any difference in the result."
      ],
      "metadata": {
        "id": "3EYu6UcHkY4L"
      }
    },
    {
      "cell_type": "markdown",
      "source": [
        "**CONCLUSIONS**.\n",
        "\n",
        "1. Unrestricted model:\n",
        "* Train Accuracy 🡪 100%.\n",
        "* Test accuracy 🡪 97.6%.\n",
        "* Conclusions: a clear overfitting is observed since the training accuracy data are better than those of the test.\n",
        "\n",
        "2. Model using the variable Max Samples Split = 6:\n",
        "* Train Accuracy 🡪 97.6%.\n",
        "Test Accuracy 🡪 97.6% * Test Accuracy 🡪 97.6%.\n",
        "* Conclusions: NO overfitting is observed. The result is exactly in both cases. For me, this would be the best model I have tested with Decision Tree Clasiffier. \n",
        "\n",
        "Model using the variable Max Depth = 4:\n",
        "* Train Accuracy 🡪 97.2%.\n",
        "Accuracy Test 🡪 97.6% * Accuracy Test 🡪 97.6%.\n",
        "* Conclusions: NO overfitting is observed. The result is exactly in both cases. This model is also almost perfect. I go for the previous one since in this one there is a negligible difference between the test and the Train (underfitting).\n",
        "\n",
        "4.  Model using the variable Min Samples leaf = 3:\n",
        "* Accuracy Train 🡪 96.8%.\n",
        "* Accuracy Test 🡪 98.8%.\n",
        "* Conclusions: Some underfitting is observed.\n",
        "\n",
        "5.  Model using the variable Max Features = Auto:\n",
        "* Accuracy Train 🡪 100%.\n",
        "* Test Accuracy 🡪 96.4%.\n",
        "* Conclusions: a clear overfitting is observed since the training accuracy data are better than the Test data.\n",
        "\n",
        "6.  SVM model with the following parameters: C(1), Standadrscaler, Linear_SVC, los(hinge). Here again I again used only the two attributes mentioned above (peak and hinge length).\n",
        "* Accuracy Train 🡪 100%.\n",
        "* Accuracy Test 🡪 100%.\n",
        "* Conclusions: the model is perfect. Of all the models tested in the two Sprints, I would definitely choose SVM.\n",
        "\n",
        "\n",
        " \n",
        "\n",
        "\n",
        "\n",
        "\n",
        "\n",
        "\n",
        "\n",
        "\n",
        "\n",
        "\n",
        "\n",
        "\n"
      ],
      "metadata": {
        "id": "f8VWDq-1MOkn"
      }
    },
    {
      "cell_type": "markdown",
      "source": [
        "Below is the decision tree with whose hyperparameter configuration **(Max_Samples_Split=6)** I have obtained the best results within the Decision Tree Classifier used."
      ],
      "metadata": {
        "id": "44UhjxQSNuCD"
      }
    },
    {
      "cell_type": "code",
      "source": [
        "from sklearn.tree import export_graphviz\n",
        "from graphviz import Source\n",
        "\n",
        "import os\n",
        "PROJECT_ROOT_DIR = \".\"\n",
        "IMAGES_PATH = os.path.join(PROJECT_ROOT_DIR, \"tree images\") #!\n",
        "os.makedirs(IMAGES_PATH, exist_ok=True)\n",
        "\n",
        "dot_data=export_graphviz(\n",
        "    tree5, # !, Our model learnt\n",
        "    out_file = os.path.join(IMAGES_PATH, \"penguins_tree_01.dot\"), #!\n",
        "    feature_names = ('culmen_length_mm','flipper_length_mm'), #!\n",
        "    class_names = ('species'), #!\n",
        "    rounded = True,\n",
        "    filled = True,\n",
        ")\n",
        "Source.from_file(os.path.join(IMAGES_PATH, \"penguins_tree_01.dot\"))\n"
      ],
      "metadata": {
        "id": "uuTC3Vh4Upxn",
        "colab": {
          "base_uri": "https://localhost:8080/",
          "height": 1000
        },
        "outputId": "70002a2e-83a0-4f4a-e997-338541e4a093"
      },
      "execution_count": 35,
      "outputs": [
        {
          "output_type": "execute_result",
          "data": {
            "text/plain": [
              "<graphviz.files.Source at 0x7f63a6b37590>"
            ],
            "image/svg+xml": "<?xml version=\"1.0\" encoding=\"UTF-8\" standalone=\"no\"?>\n<!DOCTYPE svg PUBLIC \"-//W3C//DTD SVG 1.1//EN\"\n \"http://www.w3.org/Graphics/SVG/1.1/DTD/svg11.dtd\">\n<!-- Generated by graphviz version 2.40.1 (20161225.0304)\n -->\n<!-- Title: Tree Pages: 1 -->\n<svg width=\"1437pt\" height=\"790pt\"\n viewBox=\"0.00 0.00 1437.00 790.00\" xmlns=\"http://www.w3.org/2000/svg\" xmlns:xlink=\"http://www.w3.org/1999/xlink\">\n<g id=\"graph0\" class=\"graph\" transform=\"scale(1 1) rotate(0) translate(4 786)\">\n<title>Tree</title>\n<polygon fill=\"#ffffff\" stroke=\"transparent\" points=\"-4,4 -4,-786 1433,-786 1433,4 -4,4\"/>\n<!-- 0 -->\n<g id=\"node1\" class=\"node\">\n<title>0</title>\n<path fill=\"#fdf3ec\" stroke=\"#000000\" d=\"M829,-782C829,-782 656,-782 656,-782 650,-782 644,-776 644,-770 644,-770 644,-711 644,-711 644,-705 650,-699 656,-699 656,-699 829,-699 829,-699 835,-699 841,-705 841,-711 841,-711 841,-770 841,-770 841,-776 835,-782 829,-782\"/>\n<text text-anchor=\"middle\" x=\"742.5\" y=\"-766.8\" font-family=\"Helvetica,sans-Serif\" font-size=\"14.00\" fill=\"#000000\">flipper_length_mm &lt;= 206.5</text>\n<text text-anchor=\"middle\" x=\"742.5\" y=\"-751.8\" font-family=\"Helvetica,sans-Serif\" font-size=\"14.00\" fill=\"#000000\">gini = 0.643</text>\n<text text-anchor=\"middle\" x=\"742.5\" y=\"-736.8\" font-family=\"Helvetica,sans-Serif\" font-size=\"14.00\" fill=\"#000000\">samples = 250</text>\n<text text-anchor=\"middle\" x=\"742.5\" y=\"-721.8\" font-family=\"Helvetica,sans-Serif\" font-size=\"14.00\" fill=\"#000000\">value = [106, 53, 91]</text>\n<text text-anchor=\"middle\" x=\"742.5\" y=\"-706.8\" font-family=\"Helvetica,sans-Serif\" font-size=\"14.00\" fill=\"#000000\">class = s</text>\n</g>\n<!-- 1 -->\n<g id=\"node2\" class=\"node\">\n<title>1</title>\n<path fill=\"#f1bc95\" stroke=\"#000000\" d=\"M655,-663C655,-663 474,-663 474,-663 468,-663 462,-657 462,-651 462,-651 462,-592 462,-592 462,-586 468,-580 474,-580 474,-580 655,-580 655,-580 661,-580 667,-586 667,-592 667,-592 667,-651 667,-651 667,-657 661,-663 655,-663\"/>\n<text text-anchor=\"middle\" x=\"564.5\" y=\"-647.8\" font-family=\"Helvetica,sans-Serif\" font-size=\"14.00\" fill=\"#000000\">culmen_length_mm &lt;= 43.35</text>\n<text text-anchor=\"middle\" x=\"564.5\" y=\"-632.8\" font-family=\"Helvetica,sans-Serif\" font-size=\"14.00\" fill=\"#000000\">gini = 0.439</text>\n<text text-anchor=\"middle\" x=\"564.5\" y=\"-617.8\" font-family=\"Helvetica,sans-Serif\" font-size=\"14.00\" fill=\"#000000\">samples = 153</text>\n<text text-anchor=\"middle\" x=\"564.5\" y=\"-602.8\" font-family=\"Helvetica,sans-Serif\" font-size=\"14.00\" fill=\"#000000\">value = [104, 48, 1]</text>\n<text text-anchor=\"middle\" x=\"564.5\" y=\"-587.8\" font-family=\"Helvetica,sans-Serif\" font-size=\"14.00\" fill=\"#000000\">class = s</text>\n</g>\n<!-- 0&#45;&gt;1 -->\n<g id=\"edge1\" class=\"edge\">\n<title>0&#45;&gt;1</title>\n<path fill=\"none\" stroke=\"#000000\" d=\"M680.2442,-698.8796C665.7458,-689.1868 650.2035,-678.7961 635.3637,-668.8752\"/>\n<polygon fill=\"#000000\" stroke=\"#000000\" points=\"636.9792,-665.7451 626.7206,-663.0969 633.0887,-671.5644 636.9792,-665.7451\"/>\n<text text-anchor=\"middle\" x=\"631.5918\" y=\"-683.9178\" font-family=\"Helvetica,sans-Serif\" font-size=\"14.00\" fill=\"#000000\">True</text>\n</g>\n<!-- 18 -->\n<g id=\"node19\" class=\"node\">\n<title>18</title>\n<path fill=\"#8b48e7\" stroke=\"#000000\" d=\"M888,-663C888,-663 715,-663 715,-663 709,-663 703,-657 703,-651 703,-651 703,-592 703,-592 703,-586 709,-580 715,-580 715,-580 888,-580 888,-580 894,-580 900,-586 900,-592 900,-592 900,-651 900,-651 900,-657 894,-663 888,-663\"/>\n<text text-anchor=\"middle\" x=\"801.5\" y=\"-647.8\" font-family=\"Helvetica,sans-Serif\" font-size=\"14.00\" fill=\"#000000\">culmen_length_mm &lt;= 41.4</text>\n<text text-anchor=\"middle\" x=\"801.5\" y=\"-632.8\" font-family=\"Helvetica,sans-Serif\" font-size=\"14.00\" fill=\"#000000\">gini = 0.136</text>\n<text text-anchor=\"middle\" x=\"801.5\" y=\"-617.8\" font-family=\"Helvetica,sans-Serif\" font-size=\"14.00\" fill=\"#000000\">samples = 97</text>\n<text text-anchor=\"middle\" x=\"801.5\" y=\"-602.8\" font-family=\"Helvetica,sans-Serif\" font-size=\"14.00\" fill=\"#000000\">value = [2, 5, 90]</text>\n<text text-anchor=\"middle\" x=\"801.5\" y=\"-587.8\" font-family=\"Helvetica,sans-Serif\" font-size=\"14.00\" fill=\"#000000\">class = e</text>\n</g>\n<!-- 0&#45;&gt;18 -->\n<g id=\"edge18\" class=\"edge\">\n<title>0&#45;&gt;18</title>\n<path fill=\"none\" stroke=\"#000000\" d=\"M763.1353,-698.8796C767.3774,-690.3236 771.889,-681.2238 776.2721,-672.3833\"/>\n<polygon fill=\"#000000\" stroke=\"#000000\" points=\"779.4703,-673.8121 780.7766,-663.2981 773.1988,-670.7026 779.4703,-673.8121\"/>\n<text text-anchor=\"middle\" x=\"788.7621\" y=\"-683.2884\" font-family=\"Helvetica,sans-Serif\" font-size=\"14.00\" fill=\"#000000\">False</text>\n</g>\n<!-- 2 -->\n<g id=\"node3\" class=\"node\">\n<title>2</title>\n<path fill=\"#e6853f\" stroke=\"#000000\" d=\"M330,-544C330,-544 149,-544 149,-544 143,-544 137,-538 137,-532 137,-532 137,-473 137,-473 137,-467 143,-461 149,-461 149,-461 330,-461 330,-461 336,-461 342,-467 342,-473 342,-473 342,-532 342,-532 342,-538 336,-544 330,-544\"/>\n<text text-anchor=\"middle\" x=\"239.5\" y=\"-528.8\" font-family=\"Helvetica,sans-Serif\" font-size=\"14.00\" fill=\"#000000\">culmen_length_mm &lt;= 42.35</text>\n<text text-anchor=\"middle\" x=\"239.5\" y=\"-513.8\" font-family=\"Helvetica,sans-Serif\" font-size=\"14.00\" fill=\"#000000\">gini = 0.057</text>\n<text text-anchor=\"middle\" x=\"239.5\" y=\"-498.8\" font-family=\"Helvetica,sans-Serif\" font-size=\"14.00\" fill=\"#000000\">samples = 103</text>\n<text text-anchor=\"middle\" x=\"239.5\" y=\"-483.8\" font-family=\"Helvetica,sans-Serif\" font-size=\"14.00\" fill=\"#000000\">value = [100, 3, 0]</text>\n<text text-anchor=\"middle\" x=\"239.5\" y=\"-468.8\" font-family=\"Helvetica,sans-Serif\" font-size=\"14.00\" fill=\"#000000\">class = s</text>\n</g>\n<!-- 1&#45;&gt;2 -->\n<g id=\"edge2\" class=\"edge\">\n<title>1&#45;&gt;2</title>\n<path fill=\"none\" stroke=\"#000000\" d=\"M461.668,-583.8477C426.6721,-571.0338 387.3888,-556.65 351.6972,-543.5814\"/>\n<polygon fill=\"#000000\" stroke=\"#000000\" points=\"352.8142,-540.2632 342.2205,-540.1115 350.4074,-546.8365 352.8142,-540.2632\"/>\n</g>\n<!-- 7 -->\n<g id=\"node8\" class=\"node\">\n<title>7</title>\n<path fill=\"#4fe88f\" stroke=\"#000000\" d=\"M655,-544C655,-544 474,-544 474,-544 468,-544 462,-538 462,-532 462,-532 462,-473 462,-473 462,-467 468,-461 474,-461 474,-461 655,-461 655,-461 661,-461 667,-467 667,-473 667,-473 667,-532 667,-532 667,-538 661,-544 655,-544\"/>\n<text text-anchor=\"middle\" x=\"564.5\" y=\"-528.8\" font-family=\"Helvetica,sans-Serif\" font-size=\"14.00\" fill=\"#000000\">culmen_length_mm &lt;= 46.05</text>\n<text text-anchor=\"middle\" x=\"564.5\" y=\"-513.8\" font-family=\"Helvetica,sans-Serif\" font-size=\"14.00\" fill=\"#000000\">gini = 0.183</text>\n<text text-anchor=\"middle\" x=\"564.5\" y=\"-498.8\" font-family=\"Helvetica,sans-Serif\" font-size=\"14.00\" fill=\"#000000\">samples = 50</text>\n<text text-anchor=\"middle\" x=\"564.5\" y=\"-483.8\" font-family=\"Helvetica,sans-Serif\" font-size=\"14.00\" fill=\"#000000\">value = [4, 45, 1]</text>\n<text text-anchor=\"middle\" x=\"564.5\" y=\"-468.8\" font-family=\"Helvetica,sans-Serif\" font-size=\"14.00\" fill=\"#000000\">class = p</text>\n</g>\n<!-- 1&#45;&gt;7 -->\n<g id=\"edge7\" class=\"edge\">\n<title>1&#45;&gt;7</title>\n<path fill=\"none\" stroke=\"#000000\" d=\"M564.5,-579.8796C564.5,-571.6838 564.5,-562.9891 564.5,-554.5013\"/>\n<polygon fill=\"#000000\" stroke=\"#000000\" points=\"568.0001,-554.298 564.5,-544.2981 561.0001,-554.2981 568.0001,-554.298\"/>\n</g>\n<!-- 3 -->\n<g id=\"node4\" class=\"node\">\n<title>3</title>\n<path fill=\"#e58139\" stroke=\"#000000\" d=\"M111,-417.5C111,-417.5 12,-417.5 12,-417.5 6,-417.5 0,-411.5 0,-405.5 0,-405.5 0,-361.5 0,-361.5 0,-355.5 6,-349.5 12,-349.5 12,-349.5 111,-349.5 111,-349.5 117,-349.5 123,-355.5 123,-361.5 123,-361.5 123,-405.5 123,-405.5 123,-411.5 117,-417.5 111,-417.5\"/>\n<text text-anchor=\"middle\" x=\"61.5\" y=\"-402.3\" font-family=\"Helvetica,sans-Serif\" font-size=\"14.00\" fill=\"#000000\">gini = 0.0</text>\n<text text-anchor=\"middle\" x=\"61.5\" y=\"-387.3\" font-family=\"Helvetica,sans-Serif\" font-size=\"14.00\" fill=\"#000000\">samples = 95</text>\n<text text-anchor=\"middle\" x=\"61.5\" y=\"-372.3\" font-family=\"Helvetica,sans-Serif\" font-size=\"14.00\" fill=\"#000000\">value = [95, 0, 0]</text>\n<text text-anchor=\"middle\" x=\"61.5\" y=\"-357.3\" font-family=\"Helvetica,sans-Serif\" font-size=\"14.00\" fill=\"#000000\">class = s</text>\n</g>\n<!-- 2&#45;&gt;3 -->\n<g id=\"edge3\" class=\"edge\">\n<title>2&#45;&gt;3</title>\n<path fill=\"none\" stroke=\"#000000\" d=\"M177.2442,-460.8796C159.0654,-448.7263 139.2454,-435.4759 121.2269,-423.4297\"/>\n<polygon fill=\"#000000\" stroke=\"#000000\" points=\"122.7997,-420.2712 112.5412,-417.623 118.9093,-426.0905 122.7997,-420.2712\"/>\n</g>\n<!-- 4 -->\n<g id=\"node5\" class=\"node\">\n<title>4</title>\n<path fill=\"#f5cdb0\" stroke=\"#000000\" d=\"M326,-425C326,-425 153,-425 153,-425 147,-425 141,-419 141,-413 141,-413 141,-354 141,-354 141,-348 147,-342 153,-342 153,-342 326,-342 326,-342 332,-342 338,-348 338,-354 338,-354 338,-413 338,-413 338,-419 332,-425 326,-425\"/>\n<text text-anchor=\"middle\" x=\"239.5\" y=\"-409.8\" font-family=\"Helvetica,sans-Serif\" font-size=\"14.00\" fill=\"#000000\">flipper_length_mm &lt;= 189.5</text>\n<text text-anchor=\"middle\" x=\"239.5\" y=\"-394.8\" font-family=\"Helvetica,sans-Serif\" font-size=\"14.00\" fill=\"#000000\">gini = 0.469</text>\n<text text-anchor=\"middle\" x=\"239.5\" y=\"-379.8\" font-family=\"Helvetica,sans-Serif\" font-size=\"14.00\" fill=\"#000000\">samples = 8</text>\n<text text-anchor=\"middle\" x=\"239.5\" y=\"-364.8\" font-family=\"Helvetica,sans-Serif\" font-size=\"14.00\" fill=\"#000000\">value = [5, 3, 0]</text>\n<text text-anchor=\"middle\" x=\"239.5\" y=\"-349.8\" font-family=\"Helvetica,sans-Serif\" font-size=\"14.00\" fill=\"#000000\">class = s</text>\n</g>\n<!-- 2&#45;&gt;4 -->\n<g id=\"edge4\" class=\"edge\">\n<title>2&#45;&gt;4</title>\n<path fill=\"none\" stroke=\"#000000\" d=\"M239.5,-460.8796C239.5,-452.6838 239.5,-443.9891 239.5,-435.5013\"/>\n<polygon fill=\"#000000\" stroke=\"#000000\" points=\"243.0001,-435.298 239.5,-425.2981 236.0001,-435.2981 243.0001,-435.298\"/>\n</g>\n<!-- 5 -->\n<g id=\"node6\" class=\"node\">\n<title>5</title>\n<path fill=\"#39e581\" stroke=\"#000000\" d=\"M152,-298.5C152,-298.5 61,-298.5 61,-298.5 55,-298.5 49,-292.5 49,-286.5 49,-286.5 49,-242.5 49,-242.5 49,-236.5 55,-230.5 61,-230.5 61,-230.5 152,-230.5 152,-230.5 158,-230.5 164,-236.5 164,-242.5 164,-242.5 164,-286.5 164,-286.5 164,-292.5 158,-298.5 152,-298.5\"/>\n<text text-anchor=\"middle\" x=\"106.5\" y=\"-283.3\" font-family=\"Helvetica,sans-Serif\" font-size=\"14.00\" fill=\"#000000\">gini = 0.0</text>\n<text text-anchor=\"middle\" x=\"106.5\" y=\"-268.3\" font-family=\"Helvetica,sans-Serif\" font-size=\"14.00\" fill=\"#000000\">samples = 3</text>\n<text text-anchor=\"middle\" x=\"106.5\" y=\"-253.3\" font-family=\"Helvetica,sans-Serif\" font-size=\"14.00\" fill=\"#000000\">value = [0, 3, 0]</text>\n<text text-anchor=\"middle\" x=\"106.5\" y=\"-238.3\" font-family=\"Helvetica,sans-Serif\" font-size=\"14.00\" fill=\"#000000\">class = p</text>\n</g>\n<!-- 4&#45;&gt;5 -->\n<g id=\"edge5\" class=\"edge\">\n<title>4&#45;&gt;5</title>\n<path fill=\"none\" stroke=\"#000000\" d=\"M192.9831,-341.8796C179.833,-330.1138 165.5337,-317.3197 152.4191,-305.5855\"/>\n<polygon fill=\"#000000\" stroke=\"#000000\" points=\"154.6382,-302.8746 144.852,-298.8149 149.9706,-308.0913 154.6382,-302.8746\"/>\n</g>\n<!-- 6 -->\n<g id=\"node7\" class=\"node\">\n<title>6</title>\n<path fill=\"#e58139\" stroke=\"#000000\" d=\"M285,-298.5C285,-298.5 194,-298.5 194,-298.5 188,-298.5 182,-292.5 182,-286.5 182,-286.5 182,-242.5 182,-242.5 182,-236.5 188,-230.5 194,-230.5 194,-230.5 285,-230.5 285,-230.5 291,-230.5 297,-236.5 297,-242.5 297,-242.5 297,-286.5 297,-286.5 297,-292.5 291,-298.5 285,-298.5\"/>\n<text text-anchor=\"middle\" x=\"239.5\" y=\"-283.3\" font-family=\"Helvetica,sans-Serif\" font-size=\"14.00\" fill=\"#000000\">gini = 0.0</text>\n<text text-anchor=\"middle\" x=\"239.5\" y=\"-268.3\" font-family=\"Helvetica,sans-Serif\" font-size=\"14.00\" fill=\"#000000\">samples = 5</text>\n<text text-anchor=\"middle\" x=\"239.5\" y=\"-253.3\" font-family=\"Helvetica,sans-Serif\" font-size=\"14.00\" fill=\"#000000\">value = [5, 0, 0]</text>\n<text text-anchor=\"middle\" x=\"239.5\" y=\"-238.3\" font-family=\"Helvetica,sans-Serif\" font-size=\"14.00\" fill=\"#000000\">class = s</text>\n</g>\n<!-- 4&#45;&gt;6 -->\n<g id=\"edge6\" class=\"edge\">\n<title>4&#45;&gt;6</title>\n<path fill=\"none\" stroke=\"#000000\" d=\"M239.5,-341.8796C239.5,-331.2134 239.5,-319.7021 239.5,-308.9015\"/>\n<polygon fill=\"#000000\" stroke=\"#000000\" points=\"243.0001,-308.8149 239.5,-298.8149 236.0001,-308.815 243.0001,-308.8149\"/>\n</g>\n<!-- 8 -->\n<g id=\"node9\" class=\"node\">\n<title>8</title>\n<path fill=\"#88efb3\" stroke=\"#000000\" d=\"M621,-425C621,-425 440,-425 440,-425 434,-425 428,-419 428,-413 428,-413 428,-354 428,-354 428,-348 434,-342 440,-342 440,-342 621,-342 621,-342 627,-342 633,-348 633,-354 633,-354 633,-413 633,-413 633,-419 627,-425 621,-425\"/>\n<text text-anchor=\"middle\" x=\"530.5\" y=\"-409.8\" font-family=\"Helvetica,sans-Serif\" font-size=\"14.00\" fill=\"#000000\">culmen_length_mm &lt;= 45.75</text>\n<text text-anchor=\"middle\" x=\"530.5\" y=\"-394.8\" font-family=\"Helvetica,sans-Serif\" font-size=\"14.00\" fill=\"#000000\">gini = 0.408</text>\n<text text-anchor=\"middle\" x=\"530.5\" y=\"-379.8\" font-family=\"Helvetica,sans-Serif\" font-size=\"14.00\" fill=\"#000000\">samples = 14</text>\n<text text-anchor=\"middle\" x=\"530.5\" y=\"-364.8\" font-family=\"Helvetica,sans-Serif\" font-size=\"14.00\" fill=\"#000000\">value = [4, 10, 0]</text>\n<text text-anchor=\"middle\" x=\"530.5\" y=\"-349.8\" font-family=\"Helvetica,sans-Serif\" font-size=\"14.00\" fill=\"#000000\">class = p</text>\n</g>\n<!-- 7&#45;&gt;8 -->\n<g id=\"edge8\" class=\"edge\">\n<title>7&#45;&gt;8</title>\n<path fill=\"none\" stroke=\"#000000\" d=\"M552.6084,-460.8796C550.2153,-452.5037 547.6733,-443.6067 545.1977,-434.942\"/>\n<polygon fill=\"#000000\" stroke=\"#000000\" points=\"548.5549,-433.9518 542.4423,-425.2981 541.8243,-435.8749 548.5549,-433.9518\"/>\n</g>\n<!-- 15 -->\n<g id=\"node16\" class=\"node\">\n<title>15</title>\n<path fill=\"#3fe685\" stroke=\"#000000\" d=\"M836,-425C836,-425 663,-425 663,-425 657,-425 651,-419 651,-413 651,-413 651,-354 651,-354 651,-348 657,-342 663,-342 663,-342 836,-342 836,-342 842,-342 848,-348 848,-354 848,-354 848,-413 848,-413 848,-419 842,-425 836,-425\"/>\n<text text-anchor=\"middle\" x=\"749.5\" y=\"-409.8\" font-family=\"Helvetica,sans-Serif\" font-size=\"14.00\" fill=\"#000000\">flipper_length_mm &lt;= 202.5</text>\n<text text-anchor=\"middle\" x=\"749.5\" y=\"-394.8\" font-family=\"Helvetica,sans-Serif\" font-size=\"14.00\" fill=\"#000000\">gini = 0.054</text>\n<text text-anchor=\"middle\" x=\"749.5\" y=\"-379.8\" font-family=\"Helvetica,sans-Serif\" font-size=\"14.00\" fill=\"#000000\">samples = 36</text>\n<text text-anchor=\"middle\" x=\"749.5\" y=\"-364.8\" font-family=\"Helvetica,sans-Serif\" font-size=\"14.00\" fill=\"#000000\">value = [0, 35, 1]</text>\n<text text-anchor=\"middle\" x=\"749.5\" y=\"-349.8\" font-family=\"Helvetica,sans-Serif\" font-size=\"14.00\" fill=\"#000000\">class = p</text>\n</g>\n<!-- 7&#45;&gt;15 -->\n<g id=\"edge15\" class=\"edge\">\n<title>7&#45;&gt;15</title>\n<path fill=\"none\" stroke=\"#000000\" d=\"M629.204,-460.8796C644.4135,-451.0962 660.7282,-440.6019 676.2818,-430.5971\"/>\n<polygon fill=\"#000000\" stroke=\"#000000\" points=\"678.3157,-433.4505 684.8325,-425.0969 674.5287,-427.5632 678.3157,-433.4505\"/>\n</g>\n<!-- 9 -->\n<g id=\"node10\" class=\"node\">\n<title>9</title>\n<path fill=\"#6aeca0\" stroke=\"#000000\" d=\"M508,-306C508,-306 327,-306 327,-306 321,-306 315,-300 315,-294 315,-294 315,-235 315,-235 315,-229 321,-223 327,-223 327,-223 508,-223 508,-223 514,-223 520,-229 520,-235 520,-235 520,-294 520,-294 520,-300 514,-306 508,-306\"/>\n<text text-anchor=\"middle\" x=\"417.5\" y=\"-290.8\" font-family=\"Helvetica,sans-Serif\" font-size=\"14.00\" fill=\"#000000\">culmen_length_mm &lt;= 44.65</text>\n<text text-anchor=\"middle\" x=\"417.5\" y=\"-275.8\" font-family=\"Helvetica,sans-Serif\" font-size=\"14.00\" fill=\"#000000\">gini = 0.32</text>\n<text text-anchor=\"middle\" x=\"417.5\" y=\"-260.8\" font-family=\"Helvetica,sans-Serif\" font-size=\"14.00\" fill=\"#000000\">samples = 10</text>\n<text text-anchor=\"middle\" x=\"417.5\" y=\"-245.8\" font-family=\"Helvetica,sans-Serif\" font-size=\"14.00\" fill=\"#000000\">value = [2, 8, 0]</text>\n<text text-anchor=\"middle\" x=\"417.5\" y=\"-230.8\" font-family=\"Helvetica,sans-Serif\" font-size=\"14.00\" fill=\"#000000\">class = p</text>\n</g>\n<!-- 8&#45;&gt;9 -->\n<g id=\"edge9\" class=\"edge\">\n<title>8&#45;&gt;9</title>\n<path fill=\"none\" stroke=\"#000000\" d=\"M490.9781,-341.8796C482.3403,-332.7832 473.119,-323.0722 464.2303,-313.7116\"/>\n<polygon fill=\"#000000\" stroke=\"#000000\" points=\"466.6146,-311.1395 457.1906,-306.2981 461.5385,-315.9597 466.6146,-311.1395\"/>\n</g>\n<!-- 14 -->\n<g id=\"node15\" class=\"node\">\n<title>14</title>\n<path fill=\"#ffffff\" stroke=\"#000000\" d=\"M641,-298.5C641,-298.5 550,-298.5 550,-298.5 544,-298.5 538,-292.5 538,-286.5 538,-286.5 538,-242.5 538,-242.5 538,-236.5 544,-230.5 550,-230.5 550,-230.5 641,-230.5 641,-230.5 647,-230.5 653,-236.5 653,-242.5 653,-242.5 653,-286.5 653,-286.5 653,-292.5 647,-298.5 641,-298.5\"/>\n<text text-anchor=\"middle\" x=\"595.5\" y=\"-283.3\" font-family=\"Helvetica,sans-Serif\" font-size=\"14.00\" fill=\"#000000\">gini = 0.5</text>\n<text text-anchor=\"middle\" x=\"595.5\" y=\"-268.3\" font-family=\"Helvetica,sans-Serif\" font-size=\"14.00\" fill=\"#000000\">samples = 4</text>\n<text text-anchor=\"middle\" x=\"595.5\" y=\"-253.3\" font-family=\"Helvetica,sans-Serif\" font-size=\"14.00\" fill=\"#000000\">value = [2, 2, 0]</text>\n<text text-anchor=\"middle\" x=\"595.5\" y=\"-238.3\" font-family=\"Helvetica,sans-Serif\" font-size=\"14.00\" fill=\"#000000\">class = s</text>\n</g>\n<!-- 8&#45;&gt;14 -->\n<g id=\"edge14\" class=\"edge\">\n<title>8&#45;&gt;14</title>\n<path fill=\"none\" stroke=\"#000000\" d=\"M553.2338,-341.8796C559.2401,-330.8835 565.737,-318.9893 571.7933,-307.9015\"/>\n<polygon fill=\"#000000\" stroke=\"#000000\" points=\"575.0345,-309.2689 576.7565,-298.8149 568.8912,-305.9133 575.0345,-309.2689\"/>\n</g>\n<!-- 10 -->\n<g id=\"node11\" class=\"node\">\n<title>10</title>\n<path fill=\"#ffffff\" stroke=\"#000000\" d=\"M376,-179.5C376,-179.5 285,-179.5 285,-179.5 279,-179.5 273,-173.5 273,-167.5 273,-167.5 273,-123.5 273,-123.5 273,-117.5 279,-111.5 285,-111.5 285,-111.5 376,-111.5 376,-111.5 382,-111.5 388,-117.5 388,-123.5 388,-123.5 388,-167.5 388,-167.5 388,-173.5 382,-179.5 376,-179.5\"/>\n<text text-anchor=\"middle\" x=\"330.5\" y=\"-164.3\" font-family=\"Helvetica,sans-Serif\" font-size=\"14.00\" fill=\"#000000\">gini = 0.5</text>\n<text text-anchor=\"middle\" x=\"330.5\" y=\"-149.3\" font-family=\"Helvetica,sans-Serif\" font-size=\"14.00\" fill=\"#000000\">samples = 2</text>\n<text text-anchor=\"middle\" x=\"330.5\" y=\"-134.3\" font-family=\"Helvetica,sans-Serif\" font-size=\"14.00\" fill=\"#000000\">value = [1, 1, 0]</text>\n<text text-anchor=\"middle\" x=\"330.5\" y=\"-119.3\" font-family=\"Helvetica,sans-Serif\" font-size=\"14.00\" fill=\"#000000\">class = s</text>\n</g>\n<!-- 9&#45;&gt;10 -->\n<g id=\"edge10\" class=\"edge\">\n<title>9&#45;&gt;10</title>\n<path fill=\"none\" stroke=\"#000000\" d=\"M387.0716,-222.8796C378.7913,-211.5536 369.8143,-199.2748 361.5026,-187.9058\"/>\n<polygon fill=\"#000000\" stroke=\"#000000\" points=\"364.3147,-185.822 355.5874,-179.8149 358.6639,-189.9533 364.3147,-185.822\"/>\n</g>\n<!-- 11 -->\n<g id=\"node12\" class=\"node\">\n<title>11</title>\n<path fill=\"#55e993\" stroke=\"#000000\" d=\"M591,-187C591,-187 418,-187 418,-187 412,-187 406,-181 406,-175 406,-175 406,-116 406,-116 406,-110 412,-104 418,-104 418,-104 591,-104 591,-104 597,-104 603,-110 603,-116 603,-116 603,-175 603,-175 603,-181 597,-187 591,-187\"/>\n<text text-anchor=\"middle\" x=\"504.5\" y=\"-171.8\" font-family=\"Helvetica,sans-Serif\" font-size=\"14.00\" fill=\"#000000\">flipper_length_mm &lt;= 192.0</text>\n<text text-anchor=\"middle\" x=\"504.5\" y=\"-156.8\" font-family=\"Helvetica,sans-Serif\" font-size=\"14.00\" fill=\"#000000\">gini = 0.219</text>\n<text text-anchor=\"middle\" x=\"504.5\" y=\"-141.8\" font-family=\"Helvetica,sans-Serif\" font-size=\"14.00\" fill=\"#000000\">samples = 8</text>\n<text text-anchor=\"middle\" x=\"504.5\" y=\"-126.8\" font-family=\"Helvetica,sans-Serif\" font-size=\"14.00\" fill=\"#000000\">value = [1, 7, 0]</text>\n<text text-anchor=\"middle\" x=\"504.5\" y=\"-111.8\" font-family=\"Helvetica,sans-Serif\" font-size=\"14.00\" fill=\"#000000\">class = p</text>\n</g>\n<!-- 9&#45;&gt;11 -->\n<g id=\"edge11\" class=\"edge\">\n<title>9&#45;&gt;11</title>\n<path fill=\"none\" stroke=\"#000000\" d=\"M447.9284,-222.8796C454.3811,-214.0534 461.257,-204.6485 467.9113,-195.5466\"/>\n<polygon fill=\"#000000\" stroke=\"#000000\" points=\"470.8653,-197.4364 473.9417,-187.2981 465.2144,-193.3051 470.8653,-197.4364\"/>\n</g>\n<!-- 12 -->\n<g id=\"node13\" class=\"node\">\n<title>12</title>\n<path fill=\"#9cf2c0\" stroke=\"#000000\" d=\"M484,-68C484,-68 393,-68 393,-68 387,-68 381,-62 381,-56 381,-56 381,-12 381,-12 381,-6 387,0 393,0 393,0 484,0 484,0 490,0 496,-6 496,-12 496,-12 496,-56 496,-56 496,-62 490,-68 484,-68\"/>\n<text text-anchor=\"middle\" x=\"438.5\" y=\"-52.8\" font-family=\"Helvetica,sans-Serif\" font-size=\"14.00\" fill=\"#000000\">gini = 0.444</text>\n<text text-anchor=\"middle\" x=\"438.5\" y=\"-37.8\" font-family=\"Helvetica,sans-Serif\" font-size=\"14.00\" fill=\"#000000\">samples = 3</text>\n<text text-anchor=\"middle\" x=\"438.5\" y=\"-22.8\" font-family=\"Helvetica,sans-Serif\" font-size=\"14.00\" fill=\"#000000\">value = [1, 2, 0]</text>\n<text text-anchor=\"middle\" x=\"438.5\" y=\"-7.8\" font-family=\"Helvetica,sans-Serif\" font-size=\"14.00\" fill=\"#000000\">class = p</text>\n</g>\n<!-- 11&#45;&gt;12 -->\n<g id=\"edge12\" class=\"edge\">\n<title>11&#45;&gt;12</title>\n<path fill=\"none\" stroke=\"#000000\" d=\"M479.924,-103.9815C474.7014,-95.1585 469.1771,-85.8258 463.9237,-76.9506\"/>\n<polygon fill=\"#000000\" stroke=\"#000000\" points=\"466.8874,-75.0863 458.7816,-68.2637 460.8636,-78.652 466.8874,-75.0863\"/>\n</g>\n<!-- 13 -->\n<g id=\"node14\" class=\"node\">\n<title>13</title>\n<path fill=\"#39e581\" stroke=\"#000000\" d=\"M617,-68C617,-68 526,-68 526,-68 520,-68 514,-62 514,-56 514,-56 514,-12 514,-12 514,-6 520,0 526,0 526,0 617,0 617,0 623,0 629,-6 629,-12 629,-12 629,-56 629,-56 629,-62 623,-68 617,-68\"/>\n<text text-anchor=\"middle\" x=\"571.5\" y=\"-52.8\" font-family=\"Helvetica,sans-Serif\" font-size=\"14.00\" fill=\"#000000\">gini = 0.0</text>\n<text text-anchor=\"middle\" x=\"571.5\" y=\"-37.8\" font-family=\"Helvetica,sans-Serif\" font-size=\"14.00\" fill=\"#000000\">samples = 5</text>\n<text text-anchor=\"middle\" x=\"571.5\" y=\"-22.8\" font-family=\"Helvetica,sans-Serif\" font-size=\"14.00\" fill=\"#000000\">value = [0, 5, 0]</text>\n<text text-anchor=\"middle\" x=\"571.5\" y=\"-7.8\" font-family=\"Helvetica,sans-Serif\" font-size=\"14.00\" fill=\"#000000\">class = p</text>\n</g>\n<!-- 11&#45;&gt;13 -->\n<g id=\"edge13\" class=\"edge\">\n<title>11&#45;&gt;13</title>\n<path fill=\"none\" stroke=\"#000000\" d=\"M529.4483,-103.9815C534.7501,-95.1585 540.3581,-85.8258 545.6911,-76.9506\"/>\n<polygon fill=\"#000000\" stroke=\"#000000\" points=\"548.7605,-78.638 550.9111,-68.2637 542.7604,-75.0325 548.7605,-78.638\"/>\n</g>\n<!-- 16 -->\n<g id=\"node17\" class=\"node\">\n<title>16</title>\n<path fill=\"#39e581\" stroke=\"#000000\" d=\"M782,-298.5C782,-298.5 683,-298.5 683,-298.5 677,-298.5 671,-292.5 671,-286.5 671,-286.5 671,-242.5 671,-242.5 671,-236.5 677,-230.5 683,-230.5 683,-230.5 782,-230.5 782,-230.5 788,-230.5 794,-236.5 794,-242.5 794,-242.5 794,-286.5 794,-286.5 794,-292.5 788,-298.5 782,-298.5\"/>\n<text text-anchor=\"middle\" x=\"732.5\" y=\"-283.3\" font-family=\"Helvetica,sans-Serif\" font-size=\"14.00\" fill=\"#000000\">gini = 0.0</text>\n<text text-anchor=\"middle\" x=\"732.5\" y=\"-268.3\" font-family=\"Helvetica,sans-Serif\" font-size=\"14.00\" fill=\"#000000\">samples = 31</text>\n<text text-anchor=\"middle\" x=\"732.5\" y=\"-253.3\" font-family=\"Helvetica,sans-Serif\" font-size=\"14.00\" fill=\"#000000\">value = [0, 31, 0]</text>\n<text text-anchor=\"middle\" x=\"732.5\" y=\"-238.3\" font-family=\"Helvetica,sans-Serif\" font-size=\"14.00\" fill=\"#000000\">class = p</text>\n</g>\n<!-- 15&#45;&gt;16 -->\n<g id=\"edge16\" class=\"edge\">\n<title>15&#45;&gt;16</title>\n<path fill=\"none\" stroke=\"#000000\" d=\"M743.5542,-341.8796C742.0305,-331.2134 740.386,-319.7021 738.8431,-308.9015\"/>\n<polygon fill=\"#000000\" stroke=\"#000000\" points=\"742.2813,-308.2194 737.4021,-298.8149 735.3516,-309.2094 742.2813,-308.2194\"/>\n</g>\n<!-- 17 -->\n<g id=\"node18\" class=\"node\">\n<title>17</title>\n<path fill=\"#6aeca0\" stroke=\"#000000\" d=\"M915,-298.5C915,-298.5 824,-298.5 824,-298.5 818,-298.5 812,-292.5 812,-286.5 812,-286.5 812,-242.5 812,-242.5 812,-236.5 818,-230.5 824,-230.5 824,-230.5 915,-230.5 915,-230.5 921,-230.5 927,-236.5 927,-242.5 927,-242.5 927,-286.5 927,-286.5 927,-292.5 921,-298.5 915,-298.5\"/>\n<text text-anchor=\"middle\" x=\"869.5\" y=\"-283.3\" font-family=\"Helvetica,sans-Serif\" font-size=\"14.00\" fill=\"#000000\">gini = 0.32</text>\n<text text-anchor=\"middle\" x=\"869.5\" y=\"-268.3\" font-family=\"Helvetica,sans-Serif\" font-size=\"14.00\" fill=\"#000000\">samples = 5</text>\n<text text-anchor=\"middle\" x=\"869.5\" y=\"-253.3\" font-family=\"Helvetica,sans-Serif\" font-size=\"14.00\" fill=\"#000000\">value = [0, 4, 1]</text>\n<text text-anchor=\"middle\" x=\"869.5\" y=\"-238.3\" font-family=\"Helvetica,sans-Serif\" font-size=\"14.00\" fill=\"#000000\">class = p</text>\n</g>\n<!-- 15&#45;&gt;17 -->\n<g id=\"edge17\" class=\"edge\">\n<title>15&#45;&gt;17</title>\n<path fill=\"none\" stroke=\"#000000\" d=\"M791.4702,-341.8796C803.224,-330.2237 815.9954,-317.5587 827.7372,-305.9148\"/>\n<polygon fill=\"#000000\" stroke=\"#000000\" points=\"830.2606,-308.3416 834.8967,-298.8149 825.3316,-303.3712 830.2606,-308.3416\"/>\n</g>\n<!-- 19 -->\n<g id=\"node20\" class=\"node\">\n<title>19</title>\n<path fill=\"#e58139\" stroke=\"#000000\" d=\"M847,-536.5C847,-536.5 756,-536.5 756,-536.5 750,-536.5 744,-530.5 744,-524.5 744,-524.5 744,-480.5 744,-480.5 744,-474.5 750,-468.5 756,-468.5 756,-468.5 847,-468.5 847,-468.5 853,-468.5 859,-474.5 859,-480.5 859,-480.5 859,-524.5 859,-524.5 859,-530.5 853,-536.5 847,-536.5\"/>\n<text text-anchor=\"middle\" x=\"801.5\" y=\"-521.3\" font-family=\"Helvetica,sans-Serif\" font-size=\"14.00\" fill=\"#000000\">gini = 0.0</text>\n<text text-anchor=\"middle\" x=\"801.5\" y=\"-506.3\" font-family=\"Helvetica,sans-Serif\" font-size=\"14.00\" fill=\"#000000\">samples = 1</text>\n<text text-anchor=\"middle\" x=\"801.5\" y=\"-491.3\" font-family=\"Helvetica,sans-Serif\" font-size=\"14.00\" fill=\"#000000\">value = [1, 0, 0]</text>\n<text text-anchor=\"middle\" x=\"801.5\" y=\"-476.3\" font-family=\"Helvetica,sans-Serif\" font-size=\"14.00\" fill=\"#000000\">class = s</text>\n</g>\n<!-- 18&#45;&gt;19 -->\n<g id=\"edge19\" class=\"edge\">\n<title>18&#45;&gt;19</title>\n<path fill=\"none\" stroke=\"#000000\" d=\"M801.5,-579.8796C801.5,-569.2134 801.5,-557.7021 801.5,-546.9015\"/>\n<polygon fill=\"#000000\" stroke=\"#000000\" points=\"805.0001,-546.8149 801.5,-536.8149 798.0001,-546.815 805.0001,-546.8149\"/>\n</g>\n<!-- 20 -->\n<g id=\"node21\" class=\"node\">\n<title>20</title>\n<path fill=\"#8946e7\" stroke=\"#000000\" d=\"M1130,-544C1130,-544 957,-544 957,-544 951,-544 945,-538 945,-532 945,-532 945,-473 945,-473 945,-467 951,-461 957,-461 957,-461 1130,-461 1130,-461 1136,-461 1142,-467 1142,-473 1142,-473 1142,-532 1142,-532 1142,-538 1136,-544 1130,-544\"/>\n<text text-anchor=\"middle\" x=\"1043.5\" y=\"-528.8\" font-family=\"Helvetica,sans-Serif\" font-size=\"14.00\" fill=\"#000000\">flipper_length_mm &lt;= 212.5</text>\n<text text-anchor=\"middle\" x=\"1043.5\" y=\"-513.8\" font-family=\"Helvetica,sans-Serif\" font-size=\"14.00\" fill=\"#000000\">gini = 0.118</text>\n<text text-anchor=\"middle\" x=\"1043.5\" y=\"-498.8\" font-family=\"Helvetica,sans-Serif\" font-size=\"14.00\" fill=\"#000000\">samples = 96</text>\n<text text-anchor=\"middle\" x=\"1043.5\" y=\"-483.8\" font-family=\"Helvetica,sans-Serif\" font-size=\"14.00\" fill=\"#000000\">value = [1, 5, 90]</text>\n<text text-anchor=\"middle\" x=\"1043.5\" y=\"-468.8\" font-family=\"Helvetica,sans-Serif\" font-size=\"14.00\" fill=\"#000000\">class = e</text>\n</g>\n<!-- 18&#45;&gt;20 -->\n<g id=\"edge20\" class=\"edge\">\n<title>18&#45;&gt;20</title>\n<path fill=\"none\" stroke=\"#000000\" d=\"M886.1399,-579.8796C906.6802,-569.7791 928.7617,-558.9209 949.6975,-548.626\"/>\n<polygon fill=\"#000000\" stroke=\"#000000\" points=\"951.4787,-551.6505 958.9079,-544.0969 948.3897,-545.3689 951.4787,-551.6505\"/>\n</g>\n<!-- 21 -->\n<g id=\"node22\" class=\"node\">\n<title>21</title>\n<path fill=\"#9f69eb\" stroke=\"#000000\" d=\"M1134,-425C1134,-425 953,-425 953,-425 947,-425 941,-419 941,-413 941,-413 941,-354 941,-354 941,-348 947,-342 953,-342 953,-342 1134,-342 1134,-342 1140,-342 1146,-348 1146,-354 1146,-354 1146,-413 1146,-413 1146,-419 1140,-425 1134,-425\"/>\n<text text-anchor=\"middle\" x=\"1043.5\" y=\"-409.8\" font-family=\"Helvetica,sans-Serif\" font-size=\"14.00\" fill=\"#000000\">culmen_length_mm &lt;= 48.85</text>\n<text text-anchor=\"middle\" x=\"1043.5\" y=\"-394.8\" font-family=\"Helvetica,sans-Serif\" font-size=\"14.00\" fill=\"#000000\">gini = 0.331</text>\n<text text-anchor=\"middle\" x=\"1043.5\" y=\"-379.8\" font-family=\"Helvetica,sans-Serif\" font-size=\"14.00\" fill=\"#000000\">samples = 30</text>\n<text text-anchor=\"middle\" x=\"1043.5\" y=\"-364.8\" font-family=\"Helvetica,sans-Serif\" font-size=\"14.00\" fill=\"#000000\">value = [1, 5, 24]</text>\n<text text-anchor=\"middle\" x=\"1043.5\" y=\"-349.8\" font-family=\"Helvetica,sans-Serif\" font-size=\"14.00\" fill=\"#000000\">class = e</text>\n</g>\n<!-- 20&#45;&gt;21 -->\n<g id=\"edge21\" class=\"edge\">\n<title>20&#45;&gt;21</title>\n<path fill=\"none\" stroke=\"#000000\" d=\"M1043.5,-460.8796C1043.5,-452.6838 1043.5,-443.9891 1043.5,-435.5013\"/>\n<polygon fill=\"#000000\" stroke=\"#000000\" points=\"1047.0001,-435.298 1043.5,-425.2981 1040.0001,-435.2981 1047.0001,-435.298\"/>\n</g>\n<!-- 30 -->\n<g id=\"node31\" class=\"node\">\n<title>30</title>\n<path fill=\"#8139e5\" stroke=\"#000000\" d=\"M1275,-417.5C1275,-417.5 1176,-417.5 1176,-417.5 1170,-417.5 1164,-411.5 1164,-405.5 1164,-405.5 1164,-361.5 1164,-361.5 1164,-355.5 1170,-349.5 1176,-349.5 1176,-349.5 1275,-349.5 1275,-349.5 1281,-349.5 1287,-355.5 1287,-361.5 1287,-361.5 1287,-405.5 1287,-405.5 1287,-411.5 1281,-417.5 1275,-417.5\"/>\n<text text-anchor=\"middle\" x=\"1225.5\" y=\"-402.3\" font-family=\"Helvetica,sans-Serif\" font-size=\"14.00\" fill=\"#000000\">gini = 0.0</text>\n<text text-anchor=\"middle\" x=\"1225.5\" y=\"-387.3\" font-family=\"Helvetica,sans-Serif\" font-size=\"14.00\" fill=\"#000000\">samples = 66</text>\n<text text-anchor=\"middle\" x=\"1225.5\" y=\"-372.3\" font-family=\"Helvetica,sans-Serif\" font-size=\"14.00\" fill=\"#000000\">value = [0, 0, 66]</text>\n<text text-anchor=\"middle\" x=\"1225.5\" y=\"-357.3\" font-family=\"Helvetica,sans-Serif\" font-size=\"14.00\" fill=\"#000000\">class = e</text>\n</g>\n<!-- 20&#45;&gt;30 -->\n<g id=\"edge30\" class=\"edge\">\n<title>20&#45;&gt;30</title>\n<path fill=\"none\" stroke=\"#000000\" d=\"M1107.1548,-460.8796C1125.9111,-448.6158 1146.3761,-435.2348 1164.933,-423.1015\"/>\n<polygon fill=\"#000000\" stroke=\"#000000\" points=\"1166.8575,-426.025 1173.3118,-417.623 1163.0267,-420.1662 1166.8575,-426.025\"/>\n</g>\n<!-- 22 -->\n<g id=\"node23\" class=\"node\">\n<title>22</title>\n<path fill=\"#8642e6\" stroke=\"#000000\" d=\"M1130,-306C1130,-306 957,-306 957,-306 951,-306 945,-300 945,-294 945,-294 945,-235 945,-235 945,-229 951,-223 957,-223 957,-223 1130,-223 1130,-223 1136,-223 1142,-229 1142,-235 1142,-235 1142,-294 1142,-294 1142,-300 1136,-306 1130,-306\"/>\n<text text-anchor=\"middle\" x=\"1043.5\" y=\"-290.8\" font-family=\"Helvetica,sans-Serif\" font-size=\"14.00\" fill=\"#000000\">culmen_length_mm &lt;= 44.6</text>\n<text text-anchor=\"middle\" x=\"1043.5\" y=\"-275.8\" font-family=\"Helvetica,sans-Serif\" font-size=\"14.00\" fill=\"#000000\">gini = 0.08</text>\n<text text-anchor=\"middle\" x=\"1043.5\" y=\"-260.8\" font-family=\"Helvetica,sans-Serif\" font-size=\"14.00\" fill=\"#000000\">samples = 24</text>\n<text text-anchor=\"middle\" x=\"1043.5\" y=\"-245.8\" font-family=\"Helvetica,sans-Serif\" font-size=\"14.00\" fill=\"#000000\">value = [1, 0, 23]</text>\n<text text-anchor=\"middle\" x=\"1043.5\" y=\"-230.8\" font-family=\"Helvetica,sans-Serif\" font-size=\"14.00\" fill=\"#000000\">class = e</text>\n</g>\n<!-- 21&#45;&gt;22 -->\n<g id=\"edge22\" class=\"edge\">\n<title>21&#45;&gt;22</title>\n<path fill=\"none\" stroke=\"#000000\" d=\"M1043.5,-341.8796C1043.5,-333.6838 1043.5,-324.9891 1043.5,-316.5013\"/>\n<polygon fill=\"#000000\" stroke=\"#000000\" points=\"1047.0001,-316.298 1043.5,-306.2981 1040.0001,-316.2981 1047.0001,-316.298\"/>\n</g>\n<!-- 27 -->\n<g id=\"node28\" class=\"node\">\n<title>27</title>\n<path fill=\"#61ea9a\" stroke=\"#000000\" d=\"M1345,-306C1345,-306 1172,-306 1172,-306 1166,-306 1160,-300 1160,-294 1160,-294 1160,-235 1160,-235 1160,-229 1166,-223 1172,-223 1172,-223 1345,-223 1345,-223 1351,-223 1357,-229 1357,-235 1357,-235 1357,-294 1357,-294 1357,-300 1351,-306 1345,-306\"/>\n<text text-anchor=\"middle\" x=\"1258.5\" y=\"-290.8\" font-family=\"Helvetica,sans-Serif\" font-size=\"14.00\" fill=\"#000000\">flipper_length_mm &lt;= 211.0</text>\n<text text-anchor=\"middle\" x=\"1258.5\" y=\"-275.8\" font-family=\"Helvetica,sans-Serif\" font-size=\"14.00\" fill=\"#000000\">gini = 0.278</text>\n<text text-anchor=\"middle\" x=\"1258.5\" y=\"-260.8\" font-family=\"Helvetica,sans-Serif\" font-size=\"14.00\" fill=\"#000000\">samples = 6</text>\n<text text-anchor=\"middle\" x=\"1258.5\" y=\"-245.8\" font-family=\"Helvetica,sans-Serif\" font-size=\"14.00\" fill=\"#000000\">value = [0, 5, 1]</text>\n<text text-anchor=\"middle\" x=\"1258.5\" y=\"-230.8\" font-family=\"Helvetica,sans-Serif\" font-size=\"14.00\" fill=\"#000000\">class = p</text>\n</g>\n<!-- 21&#45;&gt;27 -->\n<g id=\"edge27\" class=\"edge\">\n<title>21&#45;&gt;27</title>\n<path fill=\"none\" stroke=\"#000000\" d=\"M1118.6966,-341.8796C1136.6997,-331.915 1156.0355,-321.2129 1174.4119,-311.0418\"/>\n<polygon fill=\"#000000\" stroke=\"#000000\" points=\"1176.2916,-314.0018 1183.3459,-306.0969 1172.9017,-307.8773 1176.2916,-314.0018\"/>\n</g>\n<!-- 23 -->\n<g id=\"node24\" class=\"node\">\n<title>23</title>\n<path fill=\"#9355e9\" stroke=\"#000000\" d=\"M971,-187C971,-187 790,-187 790,-187 784,-187 778,-181 778,-175 778,-175 778,-116 778,-116 778,-110 784,-104 790,-104 790,-104 971,-104 971,-104 977,-104 983,-110 983,-116 983,-116 983,-175 983,-175 983,-181 977,-187 971,-187\"/>\n<text text-anchor=\"middle\" x=\"880.5\" y=\"-171.8\" font-family=\"Helvetica,sans-Serif\" font-size=\"14.00\" fill=\"#000000\">culmen_length_mm &lt;= 44.05</text>\n<text text-anchor=\"middle\" x=\"880.5\" y=\"-156.8\" font-family=\"Helvetica,sans-Serif\" font-size=\"14.00\" fill=\"#000000\">gini = 0.219</text>\n<text text-anchor=\"middle\" x=\"880.5\" y=\"-141.8\" font-family=\"Helvetica,sans-Serif\" font-size=\"14.00\" fill=\"#000000\">samples = 8</text>\n<text text-anchor=\"middle\" x=\"880.5\" y=\"-126.8\" font-family=\"Helvetica,sans-Serif\" font-size=\"14.00\" fill=\"#000000\">value = [1, 0, 7]</text>\n<text text-anchor=\"middle\" x=\"880.5\" y=\"-111.8\" font-family=\"Helvetica,sans-Serif\" font-size=\"14.00\" fill=\"#000000\">class = e</text>\n</g>\n<!-- 22&#45;&gt;23 -->\n<g id=\"edge23\" class=\"edge\">\n<title>22&#45;&gt;23</title>\n<path fill=\"none\" stroke=\"#000000\" d=\"M986.4905,-222.8796C973.3379,-213.2774 959.2472,-202.9903 945.7732,-193.1534\"/>\n<polygon fill=\"#000000\" stroke=\"#000000\" points=\"947.6177,-190.1666 937.4773,-187.0969 943.4902,-195.8202 947.6177,-190.1666\"/>\n</g>\n<!-- 26 -->\n<g id=\"node27\" class=\"node\">\n<title>26</title>\n<path fill=\"#8139e5\" stroke=\"#000000\" d=\"M1112,-179.5C1112,-179.5 1013,-179.5 1013,-179.5 1007,-179.5 1001,-173.5 1001,-167.5 1001,-167.5 1001,-123.5 1001,-123.5 1001,-117.5 1007,-111.5 1013,-111.5 1013,-111.5 1112,-111.5 1112,-111.5 1118,-111.5 1124,-117.5 1124,-123.5 1124,-123.5 1124,-167.5 1124,-167.5 1124,-173.5 1118,-179.5 1112,-179.5\"/>\n<text text-anchor=\"middle\" x=\"1062.5\" y=\"-164.3\" font-family=\"Helvetica,sans-Serif\" font-size=\"14.00\" fill=\"#000000\">gini = 0.0</text>\n<text text-anchor=\"middle\" x=\"1062.5\" y=\"-149.3\" font-family=\"Helvetica,sans-Serif\" font-size=\"14.00\" fill=\"#000000\">samples = 16</text>\n<text text-anchor=\"middle\" x=\"1062.5\" y=\"-134.3\" font-family=\"Helvetica,sans-Serif\" font-size=\"14.00\" fill=\"#000000\">value = [0, 0, 16]</text>\n<text text-anchor=\"middle\" x=\"1062.5\" y=\"-119.3\" font-family=\"Helvetica,sans-Serif\" font-size=\"14.00\" fill=\"#000000\">class = e</text>\n</g>\n<!-- 22&#45;&gt;26 -->\n<g id=\"edge26\" class=\"edge\">\n<title>22&#45;&gt;26</title>\n<path fill=\"none\" stroke=\"#000000\" d=\"M1050.1453,-222.8796C1051.8483,-212.2134 1053.6862,-200.7021 1055.4107,-189.9015\"/>\n<polygon fill=\"#000000\" stroke=\"#000000\" points=\"1058.9006,-190.2417 1057.0211,-179.8149 1051.9882,-189.138 1058.9006,-190.2417\"/>\n</g>\n<!-- 24 -->\n<g id=\"node25\" class=\"node\">\n<title>24</title>\n<path fill=\"#8139e5\" stroke=\"#000000\" d=\"M860,-68C860,-68 769,-68 769,-68 763,-68 757,-62 757,-56 757,-56 757,-12 757,-12 757,-6 763,0 769,0 769,0 860,0 860,0 866,0 872,-6 872,-12 872,-12 872,-56 872,-56 872,-62 866,-68 860,-68\"/>\n<text text-anchor=\"middle\" x=\"814.5\" y=\"-52.8\" font-family=\"Helvetica,sans-Serif\" font-size=\"14.00\" fill=\"#000000\">gini = 0.0</text>\n<text text-anchor=\"middle\" x=\"814.5\" y=\"-37.8\" font-family=\"Helvetica,sans-Serif\" font-size=\"14.00\" fill=\"#000000\">samples = 7</text>\n<text text-anchor=\"middle\" x=\"814.5\" y=\"-22.8\" font-family=\"Helvetica,sans-Serif\" font-size=\"14.00\" fill=\"#000000\">value = [0, 0, 7]</text>\n<text text-anchor=\"middle\" x=\"814.5\" y=\"-7.8\" font-family=\"Helvetica,sans-Serif\" font-size=\"14.00\" fill=\"#000000\">class = e</text>\n</g>\n<!-- 23&#45;&gt;24 -->\n<g id=\"edge24\" class=\"edge\">\n<title>23&#45;&gt;24</title>\n<path fill=\"none\" stroke=\"#000000\" d=\"M855.924,-103.9815C850.7014,-95.1585 845.1771,-85.8258 839.9237,-76.9506\"/>\n<polygon fill=\"#000000\" stroke=\"#000000\" points=\"842.8874,-75.0863 834.7816,-68.2637 836.8636,-78.652 842.8874,-75.0863\"/>\n</g>\n<!-- 25 -->\n<g id=\"node26\" class=\"node\">\n<title>25</title>\n<path fill=\"#e58139\" stroke=\"#000000\" d=\"M993,-68C993,-68 902,-68 902,-68 896,-68 890,-62 890,-56 890,-56 890,-12 890,-12 890,-6 896,0 902,0 902,0 993,0 993,0 999,0 1005,-6 1005,-12 1005,-12 1005,-56 1005,-56 1005,-62 999,-68 993,-68\"/>\n<text text-anchor=\"middle\" x=\"947.5\" y=\"-52.8\" font-family=\"Helvetica,sans-Serif\" font-size=\"14.00\" fill=\"#000000\">gini = 0.0</text>\n<text text-anchor=\"middle\" x=\"947.5\" y=\"-37.8\" font-family=\"Helvetica,sans-Serif\" font-size=\"14.00\" fill=\"#000000\">samples = 1</text>\n<text text-anchor=\"middle\" x=\"947.5\" y=\"-22.8\" font-family=\"Helvetica,sans-Serif\" font-size=\"14.00\" fill=\"#000000\">value = [1, 0, 0]</text>\n<text text-anchor=\"middle\" x=\"947.5\" y=\"-7.8\" font-family=\"Helvetica,sans-Serif\" font-size=\"14.00\" fill=\"#000000\">class = s</text>\n</g>\n<!-- 23&#45;&gt;25 -->\n<g id=\"edge25\" class=\"edge\">\n<title>23&#45;&gt;25</title>\n<path fill=\"none\" stroke=\"#000000\" d=\"M905.4483,-103.9815C910.7501,-95.1585 916.3581,-85.8258 921.6911,-76.9506\"/>\n<polygon fill=\"#000000\" stroke=\"#000000\" points=\"924.7605,-78.638 926.9111,-68.2637 918.7604,-75.0325 924.7605,-78.638\"/>\n</g>\n<!-- 28 -->\n<g id=\"node29\" class=\"node\">\n<title>28</title>\n<path fill=\"#39e581\" stroke=\"#000000\" d=\"M1284,-179.5C1284,-179.5 1193,-179.5 1193,-179.5 1187,-179.5 1181,-173.5 1181,-167.5 1181,-167.5 1181,-123.5 1181,-123.5 1181,-117.5 1187,-111.5 1193,-111.5 1193,-111.5 1284,-111.5 1284,-111.5 1290,-111.5 1296,-117.5 1296,-123.5 1296,-123.5 1296,-167.5 1296,-167.5 1296,-173.5 1290,-179.5 1284,-179.5\"/>\n<text text-anchor=\"middle\" x=\"1238.5\" y=\"-164.3\" font-family=\"Helvetica,sans-Serif\" font-size=\"14.00\" fill=\"#000000\">gini = 0.0</text>\n<text text-anchor=\"middle\" x=\"1238.5\" y=\"-149.3\" font-family=\"Helvetica,sans-Serif\" font-size=\"14.00\" fill=\"#000000\">samples = 4</text>\n<text text-anchor=\"middle\" x=\"1238.5\" y=\"-134.3\" font-family=\"Helvetica,sans-Serif\" font-size=\"14.00\" fill=\"#000000\">value = [0, 4, 0]</text>\n<text text-anchor=\"middle\" x=\"1238.5\" y=\"-119.3\" font-family=\"Helvetica,sans-Serif\" font-size=\"14.00\" fill=\"#000000\">class = p</text>\n</g>\n<!-- 27&#45;&gt;28 -->\n<g id=\"edge28\" class=\"edge\">\n<title>27&#45;&gt;28</title>\n<path fill=\"none\" stroke=\"#000000\" d=\"M1251.505,-222.8796C1249.7123,-212.2134 1247.7777,-200.7021 1245.9624,-189.9015\"/>\n<polygon fill=\"#000000\" stroke=\"#000000\" points=\"1249.3763,-189.0965 1244.2672,-179.8149 1242.4731,-190.2568 1249.3763,-189.0965\"/>\n</g>\n<!-- 29 -->\n<g id=\"node30\" class=\"node\">\n<title>29</title>\n<path fill=\"#ffffff\" stroke=\"#000000\" d=\"M1417,-179.5C1417,-179.5 1326,-179.5 1326,-179.5 1320,-179.5 1314,-173.5 1314,-167.5 1314,-167.5 1314,-123.5 1314,-123.5 1314,-117.5 1320,-111.5 1326,-111.5 1326,-111.5 1417,-111.5 1417,-111.5 1423,-111.5 1429,-117.5 1429,-123.5 1429,-123.5 1429,-167.5 1429,-167.5 1429,-173.5 1423,-179.5 1417,-179.5\"/>\n<text text-anchor=\"middle\" x=\"1371.5\" y=\"-164.3\" font-family=\"Helvetica,sans-Serif\" font-size=\"14.00\" fill=\"#000000\">gini = 0.5</text>\n<text text-anchor=\"middle\" x=\"1371.5\" y=\"-149.3\" font-family=\"Helvetica,sans-Serif\" font-size=\"14.00\" fill=\"#000000\">samples = 2</text>\n<text text-anchor=\"middle\" x=\"1371.5\" y=\"-134.3\" font-family=\"Helvetica,sans-Serif\" font-size=\"14.00\" fill=\"#000000\">value = [0, 1, 1]</text>\n<text text-anchor=\"middle\" x=\"1371.5\" y=\"-119.3\" font-family=\"Helvetica,sans-Serif\" font-size=\"14.00\" fill=\"#000000\">class = p</text>\n</g>\n<!-- 27&#45;&gt;29 -->\n<g id=\"edge29\" class=\"edge\">\n<title>27&#45;&gt;29</title>\n<path fill=\"none\" stroke=\"#000000\" d=\"M1298.0219,-222.8796C1308.9857,-211.3337 1320.8897,-198.7976 1331.8601,-187.2446\"/>\n<polygon fill=\"#000000\" stroke=\"#000000\" points=\"1334.5673,-189.4766 1338.9152,-179.8149 1329.4913,-184.6564 1334.5673,-189.4766\"/>\n</g>\n</g>\n</svg>\n"
          },
          "metadata": {},
          "execution_count": 35
        }
      ]
    },
    {
      "cell_type": "markdown",
      "source": [
        "## **3. ENSEMBLES FOR PENGUIN DATASET**"
      ],
      "metadata": {
        "id": "B0FtsEwoFFLh"
      }
    },
    {
      "cell_type": "markdown",
      "source": [
        "Since this Dataset is composed of a Multinomial Target, we will use two types of Classifier Ensembles."
      ],
      "metadata": {
        "id": "iCVBJPsHFoxf"
      }
    },
    {
      "cell_type": "markdown",
      "source": [
        "###3.1 BAGGING CLASSIFIER"
      ],
      "metadata": {
        "id": "bqfQeiaSF_XU"
      }
    },
    {
      "cell_type": "markdown",
      "source": [
        "* MODEL 1: Decission Tree Classifier,   Max Depth = 5, Min Samples Split = 4, Min Samples Leaf = 2, N_Estimators = 500, Max Samples = 100. \n",
        "* MODEL 2:  Decission Tree Classifier,   Max Depth = 10, Min Samples Split = 6, Min Samples Leaf = 3, N_Estimators = 500, Max Samples = 100"
      ],
      "metadata": {
        "id": "otO4wIpkOAFB"
      }
    },
    {
      "cell_type": "code",
      "source": [
        "from sklearn.ensemble import BaggingClassifier\n",
        "from sklearn.tree import DecisionTreeClassifier\n",
        "\n",
        "bagging_clf = BaggingClassifier(\n",
        "    DecisionTreeClassifier(max_depth = 5, min_samples_split = 4, min_samples_leaf = 2), n_estimators=500,\n",
        "    max_samples=100, bootstrap=True, n_jobs=-1)\n",
        "bagging_clf2 = BaggingClassifier(\n",
        "    DecisionTreeClassifier(max_depth = 10, min_samples_split=6, min_samples_leaf=3), n_estimators=500,\n",
        "    max_samples=100, bootstrap=True, n_jobs=-1)\n",
        "\n",
        "bagging_clf.fit(X_train, y_train)\n",
        "bagging_clf2.fit(X_train, y_train)"
      ],
      "metadata": {
        "id": "QhSQPBtLpmqE",
        "colab": {
          "base_uri": "https://localhost:8080/"
        },
        "outputId": "859c34c6-73f2-4590-eba9-67b18e134150"
      },
      "execution_count": 36,
      "outputs": [
        {
          "output_type": "execute_result",
          "data": {
            "text/plain": [
              "BaggingClassifier(base_estimator=DecisionTreeClassifier(max_depth=10,\n",
              "                                                        min_samples_leaf=3,\n",
              "                                                        min_samples_split=6),\n",
              "                  max_samples=100, n_estimators=500, n_jobs=-1)"
            ]
          },
          "metadata": {},
          "execution_count": 36
        }
      ]
    },
    {
      "cell_type": "markdown",
      "source": [
        "Time to make some **predictions** on **test observations** using our ensemble. Let's compare the predictions of the first ten test instances with the actual labels."
      ],
      "metadata": {
        "id": "XL1hhVG5vsvf"
      }
    },
    {
      "cell_type": "code",
      "source": [
        "# Prediction of the first 10 instances of the Dataset\n",
        "y_pred10 = bagging_clf.predict(X_test[:10])\n",
        "print('10 Primmeras instancias del primer modelo')\n",
        "print(y_pred10)\n",
        "\n",
        "print('10 Primmeras instancias del segundo modelo')\n",
        "y_pred10_2 = bagging_clf2.predict(X_test[:10])\n",
        "print(y_pred10_2)"
      ],
      "metadata": {
        "id": "X-ynIFdGv0fi",
        "colab": {
          "base_uri": "https://localhost:8080/"
        },
        "outputId": "91c40d4a-aae5-42fa-b5ac-e241a1b1027f"
      },
      "execution_count": 37,
      "outputs": [
        {
          "output_type": "stream",
          "name": "stdout",
          "text": [
            "10 Primmeras instancias del primer modelo\n",
            "['Adelie' 'Gentoo' 'Adelie' 'Chinstrap' 'Adelie' 'Gentoo' 'Gentoo'\n",
            " 'Chinstrap' 'Chinstrap' 'Chinstrap']\n",
            "10 Primmeras instancias del segundo modelo\n",
            "['Adelie' 'Gentoo' 'Adelie' 'Chinstrap' 'Adelie' 'Gentoo' 'Gentoo'\n",
            " 'Chinstrap' 'Chinstrap' 'Chinstrap']\n"
          ]
        }
      ]
    },
    {
      "cell_type": "code",
      "source": [
        "# Actual labels of these first 10 instances of Test\n",
        "y_test[:10]\n"
      ],
      "metadata": {
        "id": "uXRv6UicwXm2",
        "colab": {
          "base_uri": "https://localhost:8080/"
        },
        "outputId": "4ace7c83-8eaf-426a-ce72-5a3cdf9fef99"
      },
      "execution_count": 38,
      "outputs": [
        {
          "output_type": "execute_result",
          "data": {
            "text/plain": [
              "30        Adelie\n",
              "317       Gentoo\n",
              "79        Adelie\n",
              "201    Chinstrap\n",
              "63        Adelie\n",
              "304       Gentoo\n",
              "289       Gentoo\n",
              "186    Chinstrap\n",
              "217    Chinstrap\n",
              "203    Chinstrap\n",
              "Name: species, dtype: object"
            ]
          },
          "metadata": {},
          "execution_count": 38
        }
      ]
    },
    {
      "cell_type": "markdown",
      "source": [
        "The Labels match in order with the predictions for the first 10 rows of the Dataset.\n",
        "\n",
        "\n"
      ],
      "metadata": {
        "id": "oNUtzogB4hrD"
      }
    },
    {
      "cell_type": "markdown",
      "source": [
        "Finally, we calculated some **evaluation metrics** on the full test data."
      ],
      "metadata": {
        "id": "u8Wfmk2ZwlP8"
      }
    },
    {
      "cell_type": "markdown",
      "source": [
        "The confusion matrices are shown below:"
      ],
      "metadata": {
        "id": "ge6sCRVpHTDq"
      }
    },
    {
      "cell_type": "code",
      "source": [
        "from sklearn.metrics import confusion_matrix\n",
        "\n",
        "y_pred = bagging_clf.predict(X_test)\n",
        "cm = confusion_matrix(y_pred, y_test)\n",
        "disp = ConfusionMatrixDisplay(confusion_matrix=cm)\n",
        "disp.plot()\n",
        "plt.show()"
      ],
      "metadata": {
        "id": "WSxML-Zhwp2U",
        "colab": {
          "base_uri": "https://localhost:8080/",
          "height": 283
        },
        "outputId": "3a3dc10e-7324-4085-9cc3-13e0d0c296f3"
      },
      "execution_count": 39,
      "outputs": [
        {
          "output_type": "display_data",
          "data": {
            "text/plain": [
              "<Figure size 432x288 with 2 Axes>"
            ],
            "image/png": "[encoded data removed]"
          },
          "metadata": {
            "needs_background": "light"
          }
        }
      ]
    },
    {
      "cell_type": "markdown",
      "source": [
        "Interpretation of the Confusion matrix:\n",
        "\n",
        "* For species 0 (Adelie), we would have of a total of 42 instances, of which 40 are positives, 1 false positive belonging to species 1 (Chinstrap) and 1 false positive belonging to species 0 (Gentoo).\n",
        "* For species 1 (Chinstrap), we would have a total of 14 instances, of which 14 are positives and no false positives.\n",
        "* For species 2 (Gentoo), we would have a total of 28 instances, of which 28 are positive and no false positive.\n",
        "\n",
        "\n"
      ],
      "metadata": {
        "id": "0FEzSdMQHaM8"
      }
    },
    {
      "cell_type": "code",
      "source": [
        "from sklearn.metrics import confusion_matrix, ConfusionMatrixDisplay\n",
        "y_pred_2 = bagging_clf2.predict(X_test)\n",
        "cm2 = confusion_matrix(y_pred_2, y_test)\n",
        "disp = ConfusionMatrixDisplay(confusion_matrix=cm2)\n",
        "disp.plot()\n",
        "plt.show()"
      ],
      "metadata": {
        "id": "an_Iq_R-Cp4K",
        "colab": {
          "base_uri": "https://localhost:8080/",
          "height": 283
        },
        "outputId": "12fbde48-787d-4a68-ec4f-5e907fcb7147"
      },
      "execution_count": 40,
      "outputs": [
        {
          "output_type": "display_data",
          "data": {
            "text/plain": [
              "<Figure size 432x288 with 2 Axes>"
            ],
            "image/png": "[encoded data removed]"
          },
          "metadata": {
            "needs_background": "light"
          }
        }
      ]
    },
    {
      "cell_type": "markdown",
      "source": [
        "Interpretation of the Confusion matrix:\n",
        "\n",
        "* For species 0 (Adelie), we would have of a total of 42 instances, of which 40 are positives and 2 false positives belonging to species 1 (Chinstrap).\n",
        "* For species 1 (Chinstrap), we would have a total of 13 instances, of which 13 are positive and no false positives.\n",
        "* For species 2 (Gentoo), we would have a total of 28 instances, of which 28 are positive and no false positives.\n",
        "\n",
        "\n"
      ],
      "metadata": {
        "id": "AEEq-wGILZll"
      }
    },
    {
      "cell_type": "code",
      "source": [
        "\n",
        "from sklearn.metrics import accuracy_score, classification_report\n",
        "\n",
        "accu1 = accuracy_score(y_pred, y_test)\n",
        "print(accu1)\n",
        "\n",
        "accu2 = accuracy_score(y_pred_2, y_test)\n",
        "print(accu2)"
      ],
      "metadata": {
        "id": "cUyRfIWNxHKI",
        "colab": {
          "base_uri": "https://localhost:8080/"
        },
        "outputId": "f95536f2-76ca-4cb9-8973-2acca6a774bd"
      },
      "execution_count": 41,
      "outputs": [
        {
          "output_type": "stream",
          "name": "stdout",
          "text": [
            "0.9880952380952381\n",
            "0.9761904761904762\n"
          ]
        }
      ]
    },
    {
      "cell_type": "markdown",
      "source": [
        "Success rate of 97.6% for the first configuration and 96.4% for the second configuration. "
      ],
      "metadata": {
        "id": "S7Vzrq7l6FYQ"
      }
    },
    {
      "cell_type": "code",
      "source": [
        "print(classification_report(y_pred, y_test))\n",
        "print(classification_report(y_pred_2, y_test))\n",
        "\n"
      ],
      "metadata": {
        "id": "PhnW72dCxssO",
        "colab": {
          "base_uri": "https://localhost:8080/"
        },
        "outputId": "f3f8ffdb-db2b-4b25-a28b-6109102e9000"
      },
      "execution_count": 42,
      "outputs": [
        {
          "output_type": "stream",
          "name": "stdout",
          "text": [
            "              precision    recall  f1-score   support\n",
            "\n",
            "      Adelie       1.00      0.98      0.99        41\n",
            "   Chinstrap       0.93      1.00      0.97        14\n",
            "      Gentoo       1.00      1.00      1.00        29\n",
            "\n",
            "    accuracy                           0.99        84\n",
            "   macro avg       0.98      0.99      0.98        84\n",
            "weighted avg       0.99      0.99      0.99        84\n",
            "\n",
            "              precision    recall  f1-score   support\n",
            "\n",
            "      Adelie       1.00      0.95      0.98        42\n",
            "   Chinstrap       0.87      1.00      0.93        13\n",
            "      Gentoo       1.00      1.00      1.00        29\n",
            "\n",
            "    accuracy                           0.98        84\n",
            "   macro avg       0.96      0.98      0.97        84\n",
            "weighted avg       0.98      0.98      0.98        84\n",
            "\n"
          ]
        }
      ]
    },
    {
      "cell_type": "markdown",
      "source": [
        "In Accuracy as well as in Recall and F1-score we have obtained a good score for each of the 3 penguin classes. It was not necessary for me to try to define X with the variables beak length, beak depth and wing length. I had proven that for other type of Algorithms like RandomForestClassifier, the results were more optimal using only those two variables. As shown below:"
      ],
      "metadata": {
        "id": "6qHKGfpe7FND"
      }
    },
    {
      "cell_type": "code",
      "source": [
        "from sklearn.model_selection import train_test_split\n",
        "\n",
        "X_orig = penguins.select_dtypes(exclude=['object'])\n",
        "y_orig = penguins.species\n",
        "\n",
        "# Create training and test sets\n",
        "X_train2, X_test2, y_train2, y_test2 = train_test_split(X_orig, y_orig, test_size=.3, random_state=4)\n",
        "\n",
        "# Initialize a kNN classification model, with hyperparameter 'k=3'.\n",
        "knn = KNeighborsClassifier(n_neighbors=3)\n",
        "\n",
        "# Train model: it may seem confusing to do this, since we are talking about an instance-based algorithm.\n",
        "# However, we need to do this because the 'model' will be the training data itself.\n",
        "knn.fit(X_train2, y_train2)"
      ],
      "metadata": {
        "id": "oZ_wvpwuJDgM",
        "colab": {
          "base_uri": "https://localhost:8080/"
        },
        "outputId": "e2da091d-f67e-4e05-8285-9e053665e00a"
      },
      "execution_count": 43,
      "outputs": [
        {
          "output_type": "execute_result",
          "data": {
            "text/plain": [
              "KNeighborsClassifier(n_neighbors=3)"
            ]
          },
          "metadata": {},
          "execution_count": 43
        }
      ]
    },
    {
      "cell_type": "code",
      "metadata": {
        "id": "7xwDBo4t1kxU",
        "colab": {
          "base_uri": "https://localhost:8080/"
        },
        "outputId": "3c9725a3-e5db-4884-ba81-66dd53ebce91"
      },
      "source": [
        "\n",
        "from sklearn.ensemble import RandomForestClassifier\n",
        "\n",
        "peso = RandomForestClassifier(n_estimators=50, n_jobs=-1)\n",
        "peso.fit(X_train2, y_train2)\n",
        "for name, score in zip(X_orig, peso.feature_importances_):\n",
        "    print(name, score)\n",
        "\n",
        "# This gives us the weight of each attribute. The higher the weight, the greater the importance in the model calculation."
      ],
      "execution_count": 44,
      "outputs": [
        {
          "output_type": "stream",
          "name": "stdout",
          "text": [
            "culmen_length_mm 0.41312276662616787\n",
            "culmen_depth_mm 0.15074669622046769\n",
            "flipper_length_mm 0.30457858739261906\n",
            "body_mass_g 0.13155194976074536\n"
          ]
        }
      ]
    },
    {
      "cell_type": "markdown",
      "source": [
        "The variables with the greatest weight are those previously mentioned, being approximately:\n",
        "\n",
        "\n",
        "1.  Culmen_Length_mm (length of the Peak): 37.4% 2. \n",
        "2.  Flipper_length_mm (wing length): 38.8% 3.\n",
        "3.  Culmen_depth_mm (peak depth): 12.1% 4.\n",
        "\n",
        "Body mass has only 1.15% weight in the classification process.\n",
        "\n"
      ],
      "metadata": {
        "id": "MfZUXFTe9PS7"
      }
    },
    {
      "cell_type": "markdown",
      "source": [
        "###3.1 RANDOM FOREST CLASSIFIER"
      ],
      "metadata": {
        "id": "mTMpWnHEMjcC"
      }
    },
    {
      "cell_type": "markdown",
      "source": [
        "We train our model and calculate the weight (importance) of the Dataset attributes.\n",
        "\n",
        "* MODEL 1: N_Estimators = 50, max_depth = 6, criterion = Gini, min_samples_split = 6.\n",
        "\n",
        "* MODEL 2: N_Estimators = 100, max_depth = 5, criterion = entropy, min_samples_split = 8."
      ],
      "metadata": {
        "id": "PE-QKl2iG7Rq"
      }
    },
    {
      "cell_type": "code",
      "metadata": {
        "id": "TxsfvelvNAs7",
        "colab": {
          "base_uri": "https://localhost:8080/"
        },
        "outputId": "c0515fd5-41a2-484b-fa80-3c03c8a9738f"
      },
      "source": [
        "from sklearn.ensemble import RandomForestClassifier\n",
        "\n",
        "rf_clf = RandomForestClassifier(n_estimators=50, max_depth=6, criterion='gini',\n",
        "                                min_samples_split=6, n_jobs =-1)\n",
        "rf_clf2 = RandomForestClassifier(n_estimators=100, max_depth=8, criterion='entropy',\n",
        "                                min_samples_split=8, n_jobs =-1)\n",
        "\n",
        "print('Peso de los atributos para el primer modelo de Random Classifier')\n",
        "rf_clf.fit(X_train, y_train)\n",
        "for name, score in zip(X, rf_clf.feature_importances_):\n",
        "    print(name, score)\n",
        "\n",
        "print('Peso de los atributos para el segundo modelo de Random Classifier')\n",
        "rf_clf2.fit(X_train, y_train)\n",
        "for name, score in zip(X, rf_clf.feature_importances_):\n",
        "    print(name, score)\n",
        "\n",
        "# This gives us the weight of each attribute. The higher the weight, the greater the importance in the model calculation."
      ],
      "execution_count": 45,
      "outputs": [
        {
          "output_type": "stream",
          "name": "stdout",
          "text": [
            "Peso de los atributos para el primer modelo de Random Classifier\n",
            "culmen_length_mm 0.5260166067099529\n",
            "flipper_length_mm 0.47398339329004713\n",
            "Peso de los atributos para el segundo modelo de Random Classifier\n",
            "culmen_length_mm 0.5260166067099529\n",
            "flipper_length_mm 0.47398339329004713\n"
          ]
        }
      ]
    },
    {
      "cell_type": "markdown",
      "source": [
        "The weight of the two variables used in the trained model is fairly evenly distributed, with each variable accounting for approximately 50% of the total weight. In other words, both have equal importance in the predictive model."
      ],
      "metadata": {
        "id": "QrHyRTynPzfR"
      }
    },
    {
      "cell_type": "code",
      "metadata": {
        "id": "5C3czgix2i0z",
        "colab": {
          "base_uri": "https://localhost:8080/"
        },
        "outputId": "26f02952-dc09-4895-a083-e5c593c0291c"
      },
      "source": [
        "from sklearn.metrics import accuracy_score, confusion_matrix\n",
        "\n",
        "y_pred_3 = rf_clf.predict(X_train)\n",
        "acc3 = accuracy_score(y_train, y_pred_3)\n",
        "print(acc3)\n",
        "\n",
        "y_pred_4 = rf_clf2.predict(X_train)\n",
        "acc4 = accuracy_score(y_train, y_pred_4)\n",
        "print(acc4)\n"
      ],
      "execution_count": 46,
      "outputs": [
        {
          "output_type": "stream",
          "name": "stdout",
          "text": [
            "0.972\n",
            "0.976\n"
          ]
        }
      ]
    },
    {
      "cell_type": "markdown",
      "source": [
        "The accuracy obtained in the confusion matrix is practically the same, being slightly better in Model 1."
      ],
      "metadata": {
        "id": "iPUkiDp2QNoq"
      }
    },
    {
      "cell_type": "code",
      "source": [
        "from sklearn.metrics import confusion_matrix, ConfusionMatrixDisplay\n",
        "cm = confusion_matrix(y_train, y_pred_3)\n",
        "disp = ConfusionMatrixDisplay(confusion_matrix=cm)\n",
        "disp.plot()\n",
        "plt.show()"
      ],
      "metadata": {
        "id": "ql5BQXRRJNZg",
        "colab": {
          "base_uri": "https://localhost:8080/",
          "height": 279
        },
        "outputId": "19921901-061a-4a09-eeec-662194c1b938"
      },
      "execution_count": 47,
      "outputs": [
        {
          "output_type": "display_data",
          "data": {
            "text/plain": [
              "<Figure size 432x288 with 2 Axes>"
            ],
            "image/png": "[encoded data removed]"
          },
          "metadata": {
            "needs_background": "light"
          }
        }
      ]
    },
    {
      "cell_type": "markdown",
      "source": [
        "Interpretation of the Confusion matrix:\n",
        "\n",
        "* For species 0 (Adelie), we would have of a total of 106 instances, of which 102 are positives, 3 false positives belonging to species 1 (Chinstrap) and 1 false positive belonging to species 2 (Gentoo).\n",
        "* For species 1 (Chinstrap), we would have a total of 53 instances, of which 53 are positive and no false positive.\n",
        "* For species 2 (Gentoo), we would have a total of 91 instances, of which 90 are positive and 1 false positive belonging to species 1 (Chinstrap).\n"
      ],
      "metadata": {
        "id": "-lRDRIGnQYl7"
      }
    },
    {
      "cell_type": "code",
      "source": [
        "from sklearn.metrics import confusion_matrix, ConfusionMatrixDisplay\n",
        "cm = confusion_matrix(y_train, y_pred_4)\n",
        "disp = ConfusionMatrixDisplay(confusion_matrix=cm)\n",
        "disp.plot()\n",
        "plt.show()"
      ],
      "metadata": {
        "id": "GSjk5n67NorC",
        "colab": {
          "base_uri": "https://localhost:8080/",
          "height": 279
        },
        "outputId": "2952332d-633d-43a7-e43a-0d26cd71415d"
      },
      "execution_count": 48,
      "outputs": [
        {
          "output_type": "display_data",
          "data": {
            "text/plain": [
              "<Figure size 432x288 with 2 Axes>"
            ],
            "image/png": "[encoded data removed]"
          },
          "metadata": {
            "needs_background": "light"
          }
        }
      ]
    },
    {
      "cell_type": "markdown",
      "source": [
        "Interpretation of the Confusion matrix:\n",
        "\n",
        "* For species 0 (Adelie), we would have of a total of 106 instances, of which 102 are positives, 3 false positives belonging to species 1 (Chinstrap) and 1 false positive belonging to species 2 (Gentoo).\n",
        "* For species 1 (Chinstrap), we would have a total of 53 instances, of which 53 are positive and 1 false positive belonging to species 2 (Gentoo).\n",
        "* For species 2 (Gentoo), we would have a total of 91 instances, of which 90 are positive and 1 false positive belonging to species 1 (Chinstrap).\n",
        "\n",
        "\n",
        "\n"
      ],
      "metadata": {
        "id": "29uzpHnVRJUZ"
      }
    },
    {
      "cell_type": "code",
      "metadata": {
        "id": "vsrf08UpFK0I",
        "colab": {
          "base_uri": "https://localhost:8080/"
        },
        "outputId": "17d7180d-e228-4845-c32d-1321126ce53c"
      },
      "source": [
        "from sklearn.metrics import classification_report\n",
        "\n",
        "print(classification_report(y_train, y_pred_3))\n",
        "\n",
        "print(classification_report(y_train, y_pred_4))"
      ],
      "execution_count": 49,
      "outputs": [
        {
          "output_type": "stream",
          "name": "stdout",
          "text": [
            "              precision    recall  f1-score   support\n",
            "\n",
            "      Adelie       0.99      0.96      0.98       106\n",
            "   Chinstrap       0.93      0.96      0.94        53\n",
            "      Gentoo       0.98      0.99      0.98        91\n",
            "\n",
            "    accuracy                           0.97       250\n",
            "   macro avg       0.97      0.97      0.97       250\n",
            "weighted avg       0.97      0.97      0.97       250\n",
            "\n",
            "              precision    recall  f1-score   support\n",
            "\n",
            "      Adelie       1.00      0.96      0.98       106\n",
            "   Chinstrap       0.93      0.98      0.95        53\n",
            "      Gentoo       0.98      0.99      0.98        91\n",
            "\n",
            "    accuracy                           0.98       250\n",
            "   macro avg       0.97      0.98      0.97       250\n",
            "weighted avg       0.98      0.98      0.98       250\n",
            "\n"
          ]
        }
      ]
    },
    {
      "cell_type": "markdown",
      "source": [
        "**Conclusion**: both models have given almost identical results in terms of goodness of fit, perhaps with the results obtained in the first model standing out slightly as better."
      ],
      "metadata": {
        "id": "jA9LPmSuRfbR"
      }
    },
    {
      "cell_type": "markdown",
      "source": [
        "The following is a summary of the accuracy results obtained for the Penguin Dataframe models."
      ],
      "metadata": {
        "id": "-f7RsdOHy1Rf"
      }
    },
    {
      "cell_type": "code",
      "source": [
        "resultados = pd.DataFrame({\n",
        "    'Modelo_utilizado_y_parámetros': [\n",
        "              'Regresión Softmax: multi_class=multinomial, solver= lbfgs',\n",
        "              'Support Vector Machine (SVM): C=1, loss= hinge',\n",
        "              'Unconstrained decision tree',\n",
        "              'Decision tree: min_samples_split=6',\n",
        "              'Decision tree: max_depth = 4',\n",
        "              'Decision tree: min_samples_leaf=3',\n",
        "              'Decision tree: max_features= auto',\n",
        "              'Bagging Classifier:max_depth = 5, min_samples_split = 4, min_samples_leaf = 2',\n",
        "              'Bagging Classifier:max_depth = 10, min_samples_split=6, min_samples_leaf=3',\n",
        "              'Random forest:n_estimators=50, max_depth=6, criterion=gini, min_samples_split=6',\n",
        "              'Random forest: n_estimators=100, max_depth=8, criterion= entropy, min_samples_split=8',\n",
        "              ],\n",
        "    \"Precision_en_test\":[round(score,2),\n",
        "                      round(svm_acc,2),\n",
        "                      round(tree4_acc,2),\n",
        "                      round(tree5_acc,2),\n",
        "                      round(tree6_acc,2),\n",
        "                      round(tree7_acc,2),\n",
        "                      round(tree8_acc,2),\n",
        "                      round(accu1,2),\n",
        "                      round(accu2,2),\n",
        "                      round(acc3,2),\n",
        "                      round(acc4,2),\n",
        "                     ]})\n",
        "\n",
        "resultados_str = resultados.astype(str)\n",
        "resultados_finales = resultados_str.sort_values(by='Precision_en_test', ascending=True)\n",
        "resultados_finales = resultados_finales.reset_index(drop=True)\n",
        "resultados_finales.head(11)\n",
        "\n",
        "plt.subplots(figsize=(10,5))\n",
        "ax=plt.barh('Modelo_utilizado_y_parámetros',\"Precision_en_test\",data=resultados_finales)\n",
        "resultados_finales = resultados_finales.sort_values(by=['Precision_en_test'])\n",
        "labels = (resultados_finales[\"Precision_en_test\"])\n",
        "plt.title('Final results on the test accuracy of the models');"
      ],
      "metadata": {
        "id": "hCdllybj0hC_",
        "colab": {
          "base_uri": "https://localhost:8080/",
          "height": 336
        },
        "outputId": "e6e5c34b-f464-4b7e-d4a2-1747627fc358"
      },
      "execution_count": 50,
      "outputs": [
        {
          "output_type": "display_data",
          "data": {
            "text/plain": [
              "<Figure size 720x360 with 1 Axes>"
            ],
            "image/png": "[encoded data removed]"
          },
          "metadata": {
            "needs_background": "light"
          }
        }
      ]
    },
    {
      "cell_type": "markdown",
      "source": [
        "Clearly SVM gives us the best accuracy (**100%**) of all the models tested on the instances reserved for the test."
      ],
      "metadata": {
        "id": "toRw0iA-VkTh"
      }
    },
    {
      "cell_type": "markdown",
      "source": [
        "##**4. ASSEMBLIES FOR THE DATASET OF 50 STARTUPS**"
      ],
      "metadata": {
        "id": "ljlZPfDSy_vj"
      }
    },
    {
      "cell_type": "code",
      "source": [
        "! pip install kaggle\n",
        "! mkdir ~/.kaggle\n",
        "!cp /content/drive/MyDrive/kaggle.json ~/.kaggle/kaggle.json\n",
        "! chmod 600 ~/.kaggle/kaggle.json\n",
        "\n",
        "! kaggle datasets download farhanmd29/50-startups\n",
        "! unzip 50-startups.zip"
      ],
      "metadata": {
        "id": "xbyXTHqar2F1",
        "colab": {
          "base_uri": "https://localhost:8080/"
        },
        "outputId": "f4babed0-72e3-47a4-a1d8-d48256ebc46e"
      },
      "execution_count": 51,
      "outputs": [
        {
          "output_type": "stream",
          "name": "stdout",
          "text": [
            "Requirement already satisfied: kaggle in /usr/local/lib/python3.7/dist-packages (1.5.12)\n",
            "Requirement already satisfied: tqdm in /usr/local/lib/python3.7/dist-packages (from kaggle) (4.64.0)\n",
            "Requirement already satisfied: certifi in /usr/local/lib/python3.7/dist-packages (from kaggle) (2021.10.8)\n",
            "Requirement already satisfied: requests in /usr/local/lib/python3.7/dist-packages (from kaggle) (2.23.0)\n",
            "Requirement already satisfied: urllib3 in /usr/local/lib/python3.7/dist-packages (from kaggle) (1.24.3)\n",
            "Requirement already satisfied: six>=1.10 in /usr/local/lib/python3.7/dist-packages (from kaggle) (1.15.0)\n",
            "Requirement already satisfied: python-dateutil in /usr/local/lib/python3.7/dist-packages (from kaggle) (2.8.2)\n",
            "Requirement already satisfied: python-slugify in /usr/local/lib/python3.7/dist-packages (from kaggle) (6.1.1)\n",
            "Requirement already satisfied: text-unidecode>=1.3 in /usr/local/lib/python3.7/dist-packages (from python-slugify->kaggle) (1.3)\n",
            "Requirement already satisfied: chardet<4,>=3.0.2 in /usr/local/lib/python3.7/dist-packages (from requests->kaggle) (3.0.4)\n",
            "Requirement already satisfied: idna<3,>=2.5 in /usr/local/lib/python3.7/dist-packages (from requests->kaggle) (2.10)\n",
            "mkdir: cannot create directory ‘/root/.kaggle’: File exists\n",
            "Downloading 50-startups.zip to /content\n",
            "  0% 0.00/1.30k [00:00<?, ?B/s]\n",
            "100% 1.30k/1.30k [00:00<00:00, 668kB/s]\n",
            "Archive:  50-startups.zip\n",
            "  inflating: 50_Startups.csv         \n"
          ]
        }
      ]
    },
    {
      "cell_type": "markdown",
      "source": [
        "Data collection and preparation, **disregarding the categorical attribute** present in the dataset (*State*) and partitioning into **training and test**."
      ],
      "metadata": {
        "id": "xzqhCKCltlJu"
      }
    },
    {
      "cell_type": "code",
      "source": [
        "import pandas as pd\n",
        "\n",
        "df = pd.read_csv('50_Startups.csv')\n",
        "df.head()"
      ],
      "metadata": {
        "id": "MaXAYiEnz90X",
        "colab": {
          "base_uri": "https://localhost:8080/",
          "height": 206
        },
        "outputId": "2ff07422-fd78-4fe1-de36-e10f41db607e"
      },
      "execution_count": 52,
      "outputs": [
        {
          "output_type": "execute_result",
          "data": {
            "text/plain": [
              "   R&D Spend  Administration  Marketing Spend       State     Profit\n",
              "0  165349.20       136897.80        471784.10    New York  192261.83\n",
              "1  162597.70       151377.59        443898.53  California  191792.06\n",
              "2  153441.51       101145.55        407934.54     Florida  191050.39\n",
              "3  144372.41       118671.85        383199.62    New York  182901.99\n",
              "4  142107.34        91391.77        366168.42     Florida  166187.94"
            ],
            "text/html": [
              "\n",
              "  <div id=\"df-e8fa12d1-e821-482e-8b68-e2d546452e22\">\n",
              "    <div class=\"colab-df-container\">\n",
              "      <div>\n",
              "<style scoped>\n",
              "    .dataframe tbody tr th:only-of-type {\n",
              "        vertical-align: middle;\n",
              "    }\n",
              "\n",
              "    .dataframe tbody tr th {\n",
              "        vertical-align: top;\n",
              "    }\n",
              "\n",
              "    .dataframe thead th {\n",
              "        text-align: right;\n",
              "    }\n",
              "</style>\n",
              "<table border=\"1\" class=\"dataframe\">\n",
              "  <thead>\n",
              "    <tr style=\"text-align: right;\">\n",
              "      <th></th>\n",
              "      <th>R&amp;D Spend</th>\n",
              "      <th>Administration</th>\n",
              "      <th>Marketing Spend</th>\n",
              "      <th>State</th>\n",
              "      <th>Profit</th>\n",
              "    </tr>\n",
              "  </thead>\n",
              "  <tbody>\n",
              "    <tr>\n",
              "      <th>0</th>\n",
              "      <td>165349.20</td>\n",
              "      <td>136897.80</td>\n",
              "      <td>471784.10</td>\n",
              "      <td>New York</td>\n",
              "      <td>192261.83</td>\n",
              "    </tr>\n",
              "    <tr>\n",
              "      <th>1</th>\n",
              "      <td>162597.70</td>\n",
              "      <td>151377.59</td>\n",
              "      <td>443898.53</td>\n",
              "      <td>California</td>\n",
              "      <td>191792.06</td>\n",
              "    </tr>\n",
              "    <tr>\n",
              "      <th>2</th>\n",
              "      <td>153441.51</td>\n",
              "      <td>101145.55</td>\n",
              "      <td>407934.54</td>\n",
              "      <td>Florida</td>\n",
              "      <td>191050.39</td>\n",
              "    </tr>\n",
              "    <tr>\n",
              "      <th>3</th>\n",
              "      <td>144372.41</td>\n",
              "      <td>118671.85</td>\n",
              "      <td>383199.62</td>\n",
              "      <td>New York</td>\n",
              "      <td>182901.99</td>\n",
              "    </tr>\n",
              "    <tr>\n",
              "      <th>4</th>\n",
              "      <td>142107.34</td>\n",
              "      <td>91391.77</td>\n",
              "      <td>366168.42</td>\n",
              "      <td>Florida</td>\n",
              "      <td>166187.94</td>\n",
              "    </tr>\n",
              "  </tbody>\n",
              "</table>\n",
              "</div>\n",
              "      <button class=\"colab-df-convert\" onclick=\"convertToInteractive('df-e8fa12d1-e821-482e-8b68-e2d546452e22')\"\n",
              "              title=\"Convert this dataframe to an interactive table.\"\n",
              "              style=\"display:none;\">\n",
              "        \n",
              "  <svg xmlns=\"http://www.w3.org/2000/svg\" height=\"24px\"viewBox=\"0 0 24 24\"\n",
              "       width=\"24px\">\n",
              "    <path d=\"M0 0h24v24H0V0z\" fill=\"none\"/>\n",
              "    <path d=\"M18.56 5.44l.94 2.06.94-2.06 2.06-.94-2.06-.94-.94-2.06-.94 2.06-2.06.94zm-11 1L8.5 8.5l.94-2.06 2.06-.94-2.06-.94L8.5 2.5l-.94 2.06-2.06.94zm10 10l.94 2.06.94-2.06 2.06-.94-2.06-.94-.94-2.06-.94 2.06-2.06.94z\"/><path d=\"M17.41 7.96l-1.37-1.37c-.4-.4-.92-.59-1.43-.59-.52 0-1.04.2-1.43.59L10.3 9.45l-7.72 7.72c-.78.78-.78 2.05 0 2.83L4 21.41c.39.39.9.59 1.41.59.51 0 1.02-.2 1.41-.59l7.78-7.78 2.81-2.81c.8-.78.8-2.07 0-2.86zM5.41 20L4 18.59l7.72-7.72 1.47 1.35L5.41 20z\"/>\n",
              "  </svg>\n",
              "      </button>\n",
              "      \n",
              "  <style>\n",
              "    .colab-df-container {\n",
              "      display:flex;\n",
              "      flex-wrap:wrap;\n",
              "      gap: 12px;\n",
              "    }\n",
              "\n",
              "    .colab-df-convert {\n",
              "      background-color: #E8F0FE;\n",
              "      border: none;\n",
              "      border-radius: 50%;\n",
              "      cursor: pointer;\n",
              "      display: none;\n",
              "      fill: #1967D2;\n",
              "      height: 32px;\n",
              "      padding: 0 0 0 0;\n",
              "      width: 32px;\n",
              "    }\n",
              "\n",
              "    .colab-df-convert:hover {\n",
              "      background-color: #E2EBFA;\n",
              "      box-shadow: 0px 1px 2px rgba(60, 64, 67, 0.3), 0px 1px 3px 1px rgba(60, 64, 67, 0.15);\n",
              "      fill: #174EA6;\n",
              "    }\n",
              "\n",
              "    [theme=dark] .colab-df-convert {\n",
              "      background-color: #3B4455;\n",
              "      fill: #D2E3FC;\n",
              "    }\n",
              "\n",
              "    [theme=dark] .colab-df-convert:hover {\n",
              "      background-color: #434B5C;\n",
              "      box-shadow: 0px 1px 3px 1px rgba(0, 0, 0, 0.15);\n",
              "      filter: drop-shadow(0px 1px 2px rgba(0, 0, 0, 0.3));\n",
              "      fill: #FFFFFF;\n",
              "    }\n",
              "  </style>\n",
              "\n",
              "      <script>\n",
              "        const buttonEl =\n",
              "          document.querySelector('#df-e8fa12d1-e821-482e-8b68-e2d546452e22 button.colab-df-convert');\n",
              "        buttonEl.style.display =\n",
              "          google.colab.kernel.accessAllowed ? 'block' : 'none';\n",
              "\n",
              "        async function convertToInteractive(key) {\n",
              "          const element = document.querySelector('#df-e8fa12d1-e821-482e-8b68-e2d546452e22');\n",
              "          const dataTable =\n",
              "            await google.colab.kernel.invokeFunction('convertToInteractive',\n",
              "                                                     [key], {});\n",
              "          if (!dataTable) return;\n",
              "\n",
              "          const docLinkHtml = 'Like what you see? Visit the ' +\n",
              "            '<a target=\"_blank\" href=https://colab.research.google.com/notebooks/data_table.ipynb>data table notebook</a>'\n",
              "            + ' to learn more about interactive tables.';\n",
              "          element.innerHTML = '';\n",
              "          dataTable['output_type'] = 'display_data';\n",
              "          await google.colab.output.renderOutput(dataTable, element);\n",
              "          const docLink = document.createElement('div');\n",
              "          docLink.innerHTML = docLinkHtml;\n",
              "          element.appendChild(docLink);\n",
              "        }\n",
              "      </script>\n",
              "    </div>\n",
              "  </div>\n",
              "  "
            ]
          },
          "metadata": {},
          "execution_count": 52
        }
      ]
    },
    {
      "cell_type": "code",
      "source": [
        "df_num = df.drop('State', axis=1) # Eliminate categorical variable\n",
        "df_num.head()\n",
        "\n",
        "X2 = df_num.drop('Profit',axis=1).astype(int)\n",
        "y2 = df_num['Profit'].astype(int)\n",
        "\n",
        "# Partitioned in training + test\n",
        "from sklearn.model_selection import train_test_split\n",
        "X_train2, X_test2, y_train2, y_test2 = train_test_split(X2, y2, test_size = 0.2, random_state = 42)\n",
        "\n"
      ],
      "metadata": {
        "id": "1kVgsQhrtXeX"
      },
      "execution_count": 53,
      "outputs": []
    },
    {
      "cell_type": "markdown",
      "source": [
        "##1. ADA BOOST REGRESSOR"
      ],
      "metadata": {
        "id": "ihJ-hZ6WT2Pi"
      }
    },
    {
      "cell_type": "markdown",
      "source": [
        "We trained an ensemble using the **AdaBoost** algorithm for **regression**, available from *scikit-learn*, using decision tree models as base predictors."
      ],
      "metadata": {
        "id": "OM1ZdmRy1oF6"
      }
    },
    {
      "cell_type": "markdown",
      "source": [
        "For this Dataset I used two regression-based classification models, since the Target to be classified is of numerical type (specifically of Float or decimal type). I also eliminated (prior to the Split) the categorical variable State to obtain an entirely numerical dataset, and since I considered that it was not relevant.\n"
      ],
      "metadata": {
        "id": "I6E6UiVDHsVr"
      }
    },
    {
      "cell_type": "code",
      "execution_count": 54,
      "metadata": {
        "id": "5uNZ_HpSrbBs",
        "colab": {
          "base_uri": "https://localhost:8080/"
        },
        "outputId": "b5bdbb31-613e-4a40-c1f2-4b1d7e52af06"
      },
      "outputs": [
        {
          "output_type": "execute_result",
          "data": {
            "text/plain": [
              "AdaBoostRegressor(base_estimator=DecisionTreeRegressor(max_depth=8),\n",
              "                  learning_rate=0.5)"
            ]
          },
          "metadata": {},
          "execution_count": 54
        }
      ],
      "source": [
        "from sklearn.ensemble import AdaBoostRegressor\n",
        "from sklearn.tree import DecisionTreeRegressor\n",
        "# Import both theAdaboost algorithm itself (AdaBoosClassifier or AdaBoostRegressor, depending on the problem)\n",
        "# as well as the type of base model for the predictors.\n",
        "\n",
        "ada_reg1 = AdaBoostRegressor(\n",
        "    DecisionTreeRegressor(max_depth=4), n_estimators=100, loss = 'square',\n",
        "    learning_rate=0.5)\n",
        "\n",
        "ada_reg2 = AdaBoostRegressor(\n",
        "    DecisionTreeRegressor(max_depth=8), n_estimators=50, loss = 'linear',\n",
        "    learning_rate=0.5)\n",
        "# At a minimum, specify maximum ensemble size and learning rate,\n",
        "# as well as the specific hyperparameters of the base models.\n",
        "\n",
        "ada_reg1.fit(X_train2, y_train2)\n",
        "ada_reg2.fit(X_train2, y_train2)"
      ]
    },
    {
      "cell_type": "markdown",
      "source": [
        "Simple error evaluation (**RMSE**) on the test set."
      ],
      "metadata": {
        "id": "MnXrf_L613Lp"
      }
    },
    {
      "cell_type": "code",
      "source": [
        "from sklearn.metrics import mean_squared_error\n",
        "import numpy as np\n",
        "\n",
        "y_pred_train = ada_reg1.predict(X_train2)\n",
        "mse1 = mean_squared_error(y_pred_train, y_train2)\n",
        "rmse1 = np.sqrt(mse1)\n",
        "print(rmse1)\n",
        "\n",
        "y_pred_train2 = ada_reg2.predict(X_train2)\n",
        "mse2 = mean_squared_error(y_pred_train2, y_train2)\n",
        "rmse2 = np.sqrt(mse2)\n",
        "print(rmse2)"
      ],
      "metadata": {
        "id": "XPhCafrpt6hl",
        "colab": {
          "base_uri": "https://localhost:8080/"
        },
        "outputId": "c99fab54-fb00-4bf9-9064-512c4ef5a9a2"
      },
      "execution_count": 55,
      "outputs": [
        {
          "output_type": "stream",
          "name": "stdout",
          "text": [
            "1961.0416596559342\n",
            "316.95370324386494\n"
          ]
        }
      ]
    },
    {
      "cell_type": "markdown",
      "source": [
        "\t\n",
        "* MODELO 1: Decission Tree Regressor, max_depth = 4, n_estimators = 100, los = square, learning_rate = 0,5. **Error RMSE = 1856**\n",
        "\n",
        "* MODELO 2: Decission Tree Regressor, max_depth = 8, n_estimators = 50, los = linear, learning_rate = 0,5. **Error RMSE = 317**\n",
        "\n",
        "The results of the mean square error obtained are much better in the second configuration, despite the fact that in the first one we already obtained a good result."
      ],
      "metadata": {
        "id": "5a_JdQ6SQJyA"
      }
    },
    {
      "cell_type": "markdown",
      "source": [
        "##2. GRADIEN BOOSTING REGRESSOR"
      ],
      "metadata": {
        "id": "86nlWtHBUAqn"
      }
    },
    {
      "cell_type": "markdown",
      "source": [
        "Unlike AdaBoost which adjusts the weights of the predictive models at each iteration, GradientBoosting adjusts each new predictor in the sequence to the residual errors made only by the predictor before it. \n",
        "\n",
        "Below are the two models with their hyperparameters:\n",
        "\n",
        "* MODEL 1: Gradien Boosting Regressor, max_depth = 5, n_estimators = 100, learning_rate = 0,1\n",
        "Error RMSE = 12111\n",
        "* MODEL 2: Gradien Boosting Regressor, max_depth = 10, n_estimators = 50, learning_rate = 0,5\n",
        "* Error RMSE = 10510\n"
      ],
      "metadata": {
        "id": "ewXTopnFUQkm"
      }
    },
    {
      "cell_type": "code",
      "execution_count": 56,
      "metadata": {
        "id": "8g_QwkB-US6c",
        "colab": {
          "base_uri": "https://localhost:8080/"
        },
        "outputId": "576129df-eca1-43d1-da6e-ca10754157ff"
      },
      "outputs": [
        {
          "output_type": "execute_result",
          "data": {
            "text/plain": [
              "GradientBoostingRegressor(learning_rate=0.5, max_depth=10, n_estimators=50)"
            ]
          },
          "metadata": {},
          "execution_count": 56
        }
      ],
      "source": [
        "from sklearn.ensemble import GradientBoostingRegressor\n",
        "\n",
        "grad_reg1 = GradientBoostingRegressor(max_depth=5, n_estimators=100, learning_rate=0.1)\n",
        "grad_reg2 = GradientBoostingRegressor(max_depth=10, n_estimators=50, learning_rate=0.5)\n",
        "# The lower the learning rate, the greater the number of decision tree models needed, and the lower the risk of overfitting.\n",
        "grad_reg1.fit(X_train2, y_train2)\n",
        "grad_reg2.fit(X_train2, y_train2)"
      ]
    },
    {
      "cell_type": "markdown",
      "source": [
        "Simple error evaluation (**RMSE**) on the test set."
      ],
      "metadata": {
        "id": "a2rU3KcZUS6d"
      }
    },
    {
      "cell_type": "code",
      "source": [
        "from sklearn.metrics import mean_squared_error\n",
        "import numpy as np\n",
        "\n",
        "y_pred3 = grad_reg1.predict(X_test2)\n",
        "mse3 = mean_squared_error(y_pred3, y_test2)\n",
        "rmse3 = np.sqrt(mse3)\n",
        "print(rmse3)\n",
        "\n",
        "y_pred4 = grad_reg2.predict(X_test2)\n",
        "mse4 = mean_squared_error(y_pred4, y_test2)\n",
        "rmse4 = np.sqrt(mse4)\n",
        "print(rmse4)"
      ],
      "metadata": {
        "id": "s7OAqIF8US6d",
        "colab": {
          "base_uri": "https://localhost:8080/"
        },
        "outputId": "c15ba9a8-f01a-4450-b85d-f29aaa80804d"
      },
      "execution_count": 57,
      "outputs": [
        {
          "output_type": "stream",
          "name": "stdout",
          "text": [
            "12938.791613414769\n",
            "11325.403766163441\n"
          ]
        }
      ]
    },
    {
      "cell_type": "markdown",
      "source": [
        "The second Model presents better results in the RMSE error. Finally we observe that specifically for this Dataset, model 1 presented with the Ada Boost Regressor Classifier is a better fit. "
      ],
      "metadata": {
        "id": "9B0SBC9LVIcD"
      }
    },
    {
      "cell_type": "markdown",
      "source": [
        "The following is a summary of the RMS results obtained for the 50 Startups Dataframe models."
      ],
      "metadata": {
        "id": "lpSlaDfCzOGr"
      }
    },
    {
      "cell_type": "code",
      "source": [
        "resultados = pd.DataFrame({\n",
        "    'Modelo_utilizado_y_parámetros': [\n",
        "              'Ada Boost Regressor: max_depth=4, n_estimators=100, loss = square, learning_rate=0.5',\n",
        "              'Ada Boost Regressor: max_depth=8, n_estimators=50, loss = linear, learning_rate=0.5',\n",
        "              'Gradien Boost Regressor: max_depth=5, n_estimators=100, learning_rate=0.1',\n",
        "              'Gradien Boost Regressor: max_depth=10, n_estimators=50, learning_rate=0.5',\n",
        "              ],\n",
        "    \"Precision_en_test\":[round(rmse1,2),\n",
        "                      round(rmse2,2),\n",
        "                      round(rmse3,2),\n",
        "                      round(rmse4,2),\n",
        "                     ]})\n",
        "\n",
        "resultados_str = resultados.astype(str)\n",
        "resultados_finales = resultados_str.sort_values(by='Precision_en_test', ascending=False)\n",
        "resultados_finales = resultados_finales.reset_index(drop=True)\n",
        "resultados_finales.head(4)\n",
        "\n",
        "plt.subplots(figsize=(10,5))\n",
        "ax=plt.barh('Modelo_utilizado_y_parámetros',\"Precision_en_test\",data=resultados_finales)\n",
        "resultados_finales = resultados_finales.sort_values(by=['Precision_en_test'])\n",
        "labels = (resultados_finales[\"Precision_en_test\"])\n",
        "plt.title('Final results on the test accuracy of the models');"
      ],
      "metadata": {
        "id": "IBhHNWjxJQKJ",
        "colab": {
          "base_uri": "https://localhost:8080/",
          "height": 336
        },
        "outputId": "7131deb9-b8ce-4ce7-ec76-f197cce0e882"
      },
      "execution_count": 58,
      "outputs": [
        {
          "output_type": "display_data",
          "data": {
            "text/plain": [
              "<Figure size 720x360 with 1 Axes>"
            ],
            "image/png": "[encoded data removed]"
          },
          "metadata": {
            "needs_background": "light"
          }
        }
      ]
    },
    {
      "cell_type": "markdown",
      "source": [
        "We observed that the Ada Boost Regressor configuration with: max_depth=8, n_estimators=50, loss = linear, learning_rate=0.5, obtained the best result in the RMSE calculation (**101.79**)."
      ],
      "metadata": {
        "id": "_m0JYZNgVRBo"
      }
    }
  ]
}